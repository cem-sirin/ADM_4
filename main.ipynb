{
 "cells": [
  {
   "cell_type": "markdown",
   "metadata": {},
   "source": [
    "# **Algorithmic Methods of Data Mining - Fall 2022**\n",
    "\n",
    "## **Homework 4: Getting to know your customers**\n",
    "\n",
    "**Packages that are used troughout the notebook:**"
   ]
  },
  {
   "cell_type": "code",
   "execution_count": 1,
   "metadata": {},
   "outputs": [],
   "source": [
    "import pandas as pd\n",
    "from datetime import datetime\n",
    "from tqdm import tqdm\n",
    "import numpy as np\n",
    "\n",
    "# Local scripts\n",
    "import datasets\n",
    "import lsh\n",
    "\n",
    "# For progress_apply\n",
    "tqdm.pandas()\n",
    "\n",
    "datas = datasets.Datasets()"
   ]
  },
  {
   "cell_type": "markdown",
   "metadata": {},
   "source": [
    "## 1. Finding Similar Costumers"
   ]
  },
  {
   "cell_type": "markdown",
   "metadata": {},
   "source": [
    "### 1.1 Set up the data"
   ]
  },
  {
   "attachments": {},
   "cell_type": "markdown",
   "metadata": {},
   "source": [
    "Starting off, below is the head of the processed transaction dataset. Briefly, we have:\n",
    "- renamed the columns to make it easier to work with,\n",
    "- created customer IDs (cid) from scratch, as the original dataset was not consistent with the customer IDs. The new customer IDs are unique identifiers for the customer DOB, location and balance columns. We have made a post about this in the Slack channel,\n",
    "- merged the transaction date and time into one column, and converted the date to a datetime object."
   ]
  },
  {
   "cell_type": "code",
   "execution_count": 2,
   "metadata": {},
   "outputs": [
    {
     "data": {
      "text/html": [
       "<div>\n",
       "<style scoped>\n",
       "    .dataframe tbody tr th:only-of-type {\n",
       "        vertical-align: middle;\n",
       "    }\n",
       "\n",
       "    .dataframe tbody tr th {\n",
       "        vertical-align: top;\n",
       "    }\n",
       "\n",
       "    .dataframe thead th {\n",
       "        text-align: right;\n",
       "    }\n",
       "</style>\n",
       "<table border=\"1\" class=\"dataframe\">\n",
       "  <thead>\n",
       "    <tr style=\"text-align: right;\">\n",
       "      <th></th>\n",
       "      <th>tid</th>\n",
       "      <th>cid</th>\n",
       "      <th>cdob</th>\n",
       "      <th>cgender</th>\n",
       "      <th>clocation</th>\n",
       "      <th>cbalance</th>\n",
       "      <th>tdate</th>\n",
       "      <th>tamount</th>\n",
       "    </tr>\n",
       "  </thead>\n",
       "  <tbody>\n",
       "    <tr>\n",
       "      <th>0</th>\n",
       "      <td>T1</td>\n",
       "      <td>0</td>\n",
       "      <td>1994-01-10</td>\n",
       "      <td>F</td>\n",
       "      <td>JAMSHEDPUR</td>\n",
       "      <td>17819.05</td>\n",
       "      <td>2016-08-02 14:32:07</td>\n",
       "      <td>25.0</td>\n",
       "    </tr>\n",
       "    <tr>\n",
       "      <th>1</th>\n",
       "      <td>T2</td>\n",
       "      <td>1</td>\n",
       "      <td>2057-04-04</td>\n",
       "      <td>M</td>\n",
       "      <td>JHAJJAR</td>\n",
       "      <td>2270.69</td>\n",
       "      <td>2016-08-02 14:18:58</td>\n",
       "      <td>27999.0</td>\n",
       "    </tr>\n",
       "    <tr>\n",
       "      <th>2</th>\n",
       "      <td>T3</td>\n",
       "      <td>2</td>\n",
       "      <td>1996-11-26</td>\n",
       "      <td>F</td>\n",
       "      <td>MUMBAI</td>\n",
       "      <td>17874.44</td>\n",
       "      <td>2016-08-02 14:27:12</td>\n",
       "      <td>459.0</td>\n",
       "    </tr>\n",
       "    <tr>\n",
       "      <th>3</th>\n",
       "      <td>T4</td>\n",
       "      <td>3</td>\n",
       "      <td>1973-09-14</td>\n",
       "      <td>F</td>\n",
       "      <td>MUMBAI</td>\n",
       "      <td>866503.21</td>\n",
       "      <td>2016-08-02 14:27:14</td>\n",
       "      <td>2060.0</td>\n",
       "    </tr>\n",
       "    <tr>\n",
       "      <th>4</th>\n",
       "      <td>T5</td>\n",
       "      <td>4</td>\n",
       "      <td>1988-03-24</td>\n",
       "      <td>F</td>\n",
       "      <td>NAVI MUMBAI</td>\n",
       "      <td>6714.43</td>\n",
       "      <td>2016-08-02 18:11:56</td>\n",
       "      <td>1762.5</td>\n",
       "    </tr>\n",
       "  </tbody>\n",
       "</table>\n",
       "</div>"
      ],
      "text/plain": [
       "  tid  cid       cdob cgender    clocation   cbalance               tdate  \\\n",
       "0  T1    0 1994-01-10       F   JAMSHEDPUR   17819.05 2016-08-02 14:32:07   \n",
       "1  T2    1 2057-04-04       M      JHAJJAR    2270.69 2016-08-02 14:18:58   \n",
       "2  T3    2 1996-11-26       F       MUMBAI   17874.44 2016-08-02 14:27:12   \n",
       "3  T4    3 1973-09-14       F       MUMBAI  866503.21 2016-08-02 14:27:14   \n",
       "4  T5    4 1988-03-24       F  NAVI MUMBAI    6714.43 2016-08-02 18:11:56   \n",
       "\n",
       "   tamount  \n",
       "0     25.0  \n",
       "1  27999.0  \n",
       "2    459.0  \n",
       "3   2060.0  \n",
       "4   1762.5  "
      ]
     },
     "execution_count": 2,
     "metadata": {},
     "output_type": "execute_result"
    }
   ],
   "source": [
    "transactions = datas.getTransactions().copy()\n",
    "transactions.head()"
   ]
  },
  {
   "attachments": {},
   "cell_type": "markdown",
   "metadata": {},
   "source": [
    "Below is the head of the customers dataset that was obtained by grouping the transactions dataset by the customer IDs. Since we believe that the DOB, gender, location, and balance are unique for each customer, we did not have to do any aggregation when grouping the transactions dataset."
   ]
  },
  {
   "cell_type": "code",
   "execution_count": 3,
   "metadata": {},
   "outputs": [
    {
     "data": {
      "text/html": [
       "<div>\n",
       "<style scoped>\n",
       "    .dataframe tbody tr th:only-of-type {\n",
       "        vertical-align: middle;\n",
       "    }\n",
       "\n",
       "    .dataframe tbody tr th {\n",
       "        vertical-align: top;\n",
       "    }\n",
       "\n",
       "    .dataframe thead th {\n",
       "        text-align: right;\n",
       "    }\n",
       "</style>\n",
       "<table border=\"1\" class=\"dataframe\">\n",
       "  <thead>\n",
       "    <tr style=\"text-align: right;\">\n",
       "      <th></th>\n",
       "      <th>dob</th>\n",
       "      <th>gender</th>\n",
       "      <th>location</th>\n",
       "      <th>balance</th>\n",
       "    </tr>\n",
       "    <tr>\n",
       "      <th>cid</th>\n",
       "      <th></th>\n",
       "      <th></th>\n",
       "      <th></th>\n",
       "      <th></th>\n",
       "    </tr>\n",
       "  </thead>\n",
       "  <tbody>\n",
       "    <tr>\n",
       "      <th>0</th>\n",
       "      <td>1994-01-10</td>\n",
       "      <td>F</td>\n",
       "      <td>JAMSHEDPUR</td>\n",
       "      <td>17819.05</td>\n",
       "    </tr>\n",
       "    <tr>\n",
       "      <th>1</th>\n",
       "      <td>1957-04-04</td>\n",
       "      <td>M</td>\n",
       "      <td>JHAJJAR</td>\n",
       "      <td>2270.69</td>\n",
       "    </tr>\n",
       "    <tr>\n",
       "      <th>2</th>\n",
       "      <td>1996-11-26</td>\n",
       "      <td>F</td>\n",
       "      <td>MUMBAI</td>\n",
       "      <td>17874.44</td>\n",
       "    </tr>\n",
       "    <tr>\n",
       "      <th>3</th>\n",
       "      <td>1973-09-14</td>\n",
       "      <td>F</td>\n",
       "      <td>MUMBAI</td>\n",
       "      <td>866503.21</td>\n",
       "    </tr>\n",
       "    <tr>\n",
       "      <th>4</th>\n",
       "      <td>1988-03-24</td>\n",
       "      <td>F</td>\n",
       "      <td>NAVI MUMBAI</td>\n",
       "      <td>6714.43</td>\n",
       "    </tr>\n",
       "  </tbody>\n",
       "</table>\n",
       "</div>"
      ],
      "text/plain": [
       "           dob gender     location    balance\n",
       "cid                                          \n",
       "0   1994-01-10      F   JAMSHEDPUR   17819.05\n",
       "1   1957-04-04      M      JHAJJAR    2270.69\n",
       "2   1996-11-26      F       MUMBAI   17874.44\n",
       "3   1973-09-14      F       MUMBAI  866503.21\n",
       "4   1988-03-24      F  NAVI MUMBAI    6714.43"
      ]
     },
     "execution_count": 3,
     "metadata": {},
     "output_type": "execute_result"
    }
   ],
   "source": [
    "customers = datas.getCustomers().copy()\n",
    "customers.head()"
   ]
  },
  {
   "attachments": {},
   "cell_type": "markdown",
   "metadata": {},
   "source": [
    "We will create shingles for each customer by using their age, average transaction amount, and balance. To do this, we are going to divide these variables into 10% quantiles, and assign a quantile to each customer. Therefore, our shingle matrix will consist of $3\\times10=30$ rows, and a column for each customer. The values in the matrix will be 1 if the customer belongs to the corresponding quantile, and 0 otherwise."
   ]
  },
  {
   "cell_type": "code",
   "execution_count": 4,
   "metadata": {},
   "outputs": [
    {
     "data": {
      "text/html": [
       "<div>\n",
       "<style scoped>\n",
       "    .dataframe tbody tr th:only-of-type {\n",
       "        vertical-align: middle;\n",
       "    }\n",
       "\n",
       "    .dataframe tbody tr th {\n",
       "        vertical-align: top;\n",
       "    }\n",
       "\n",
       "    .dataframe thead th {\n",
       "        text-align: right;\n",
       "    }\n",
       "</style>\n",
       "<table border=\"1\" class=\"dataframe\">\n",
       "  <thead>\n",
       "    <tr style=\"text-align: right;\">\n",
       "      <th></th>\n",
       "      <th>dob</th>\n",
       "      <th>gender</th>\n",
       "      <th>location</th>\n",
       "      <th>balance</th>\n",
       "      <th>age</th>\n",
       "      <th>ave_tamount</th>\n",
       "      <th>age_group</th>\n",
       "      <th>balance_group</th>\n",
       "      <th>tamount_group</th>\n",
       "    </tr>\n",
       "    <tr>\n",
       "      <th>cid</th>\n",
       "      <th></th>\n",
       "      <th></th>\n",
       "      <th></th>\n",
       "      <th></th>\n",
       "      <th></th>\n",
       "      <th></th>\n",
       "      <th></th>\n",
       "      <th></th>\n",
       "      <th></th>\n",
       "    </tr>\n",
       "  </thead>\n",
       "  <tbody>\n",
       "    <tr>\n",
       "      <th>0</th>\n",
       "      <td>1994-01-10</td>\n",
       "      <td>F</td>\n",
       "      <td>JAMSHEDPUR</td>\n",
       "      <td>17819.05</td>\n",
       "      <td>22</td>\n",
       "      <td>80.111111</td>\n",
       "      <td>0</td>\n",
       "      <td>5</td>\n",
       "      <td>0</td>\n",
       "    </tr>\n",
       "    <tr>\n",
       "      <th>1</th>\n",
       "      <td>1957-04-04</td>\n",
       "      <td>M</td>\n",
       "      <td>JHAJJAR</td>\n",
       "      <td>2270.69</td>\n",
       "      <td>59</td>\n",
       "      <td>9503.445000</td>\n",
       "      <td>9</td>\n",
       "      <td>2</td>\n",
       "      <td>9</td>\n",
       "    </tr>\n",
       "    <tr>\n",
       "      <th>2</th>\n",
       "      <td>1996-11-26</td>\n",
       "      <td>F</td>\n",
       "      <td>MUMBAI</td>\n",
       "      <td>17874.44</td>\n",
       "      <td>19</td>\n",
       "      <td>940.348182</td>\n",
       "      <td>0</td>\n",
       "      <td>5</td>\n",
       "      <td>5</td>\n",
       "    </tr>\n",
       "    <tr>\n",
       "      <th>3</th>\n",
       "      <td>1973-09-14</td>\n",
       "      <td>F</td>\n",
       "      <td>MUMBAI</td>\n",
       "      <td>866503.21</td>\n",
       "      <td>43</td>\n",
       "      <td>2537.346923</td>\n",
       "      <td>8</td>\n",
       "      <td>9</td>\n",
       "      <td>8</td>\n",
       "    </tr>\n",
       "    <tr>\n",
       "      <th>4</th>\n",
       "      <td>1988-03-24</td>\n",
       "      <td>F</td>\n",
       "      <td>NAVI MUMBAI</td>\n",
       "      <td>6714.43</td>\n",
       "      <td>28</td>\n",
       "      <td>1606.135000</td>\n",
       "      <td>3</td>\n",
       "      <td>3</td>\n",
       "      <td>7</td>\n",
       "    </tr>\n",
       "  </tbody>\n",
       "</table>\n",
       "</div>"
      ],
      "text/plain": [
       "           dob gender     location    balance  age  ave_tamount  age_group  \\\n",
       "cid                                                                          \n",
       "0   1994-01-10      F   JAMSHEDPUR   17819.05   22    80.111111          0   \n",
       "1   1957-04-04      M      JHAJJAR    2270.69   59  9503.445000          9   \n",
       "2   1996-11-26      F       MUMBAI   17874.44   19   940.348182          0   \n",
       "3   1973-09-14      F       MUMBAI  866503.21   43  2537.346923          8   \n",
       "4   1988-03-24      F  NAVI MUMBAI    6714.43   28  1606.135000          3   \n",
       "\n",
       "     balance_group  tamount_group  \n",
       "cid                                \n",
       "0                5              0  \n",
       "1                2              9  \n",
       "2                5              5  \n",
       "3                9              8  \n",
       "4                3              7  "
      ]
     },
     "execution_count": 4,
     "metadata": {},
     "output_type": "execute_result"
    }
   ],
   "source": [
    "# Creating the new features\n",
    "customers['age'] = ((transactions['tdate'].max() - customers['dob']).dt.days // 365).astype(int)\n",
    "customers['ave_tamount'] = transactions.groupby('cid')['tamount'].mean()\n",
    "\n",
    "# Creating quantile groups\n",
    "quantiles = 10\n",
    "customers['age_group'] = pd.qcut(customers['age'], quantiles, labels=False)\n",
    "customers['balance_group'] = pd.qcut(customers['balance'], quantiles, labels=False)\n",
    "customers['tamount_group'] = pd.qcut(customers['ave_tamount'], quantiles, labels=False)\n",
    "\n",
    "customers.head()"
   ]
  },
  {
   "attachments": {},
   "cell_type": "markdown",
   "metadata": {},
   "source": [
    "We also have to store the intervals of the quantiles, since we will use them again when querying for similar customers. Futhermore we will need a function that give us the quantile group of a value, given the intervals of the quantiles."
   ]
  },
  {
   "cell_type": "code",
   "execution_count": 5,
   "metadata": {},
   "outputs": [
    {
     "data": {
      "text/plain": [
       "4"
      ]
     },
     "execution_count": 5,
     "metadata": {},
     "output_type": "execute_result"
    }
   ],
   "source": [
    "# Store the quantile intervals\n",
    "age_groups = pd.qcut(customers['age'], quantiles).unique().sort_values()\n",
    "balance_groups = pd.qcut(customers['balance'], quantiles).unique().sort_values()\n",
    "tamount_groups = pd.qcut(customers['ave_tamount'], quantiles).unique().sort_values()\n",
    "\n",
    "# Get the group of a value\n",
    "def getGroup(group, value):\n",
    "    return np.where([value in g for g in group])[0][0] if len(np.where([value in g for g in group])[0]) > 0 else None\n",
    "\n",
    "getGroup(age_groups, 29) # Test: should return 4"
   ]
  },
  {
   "cell_type": "markdown",
   "metadata": {},
   "source": [
    "Now we are going to create our shingle matrix."
   ]
  },
  {
   "cell_type": "code",
   "execution_count": 6,
   "metadata": {},
   "outputs": [
    {
     "data": {
      "text/html": [
       "<div>\n",
       "<style scoped>\n",
       "    .dataframe tbody tr th:only-of-type {\n",
       "        vertical-align: middle;\n",
       "    }\n",
       "\n",
       "    .dataframe tbody tr th {\n",
       "        vertical-align: top;\n",
       "    }\n",
       "\n",
       "    .dataframe thead th {\n",
       "        text-align: right;\n",
       "    }\n",
       "</style>\n",
       "<table border=\"1\" class=\"dataframe\">\n",
       "  <thead>\n",
       "    <tr style=\"text-align: right;\">\n",
       "      <th>cid</th>\n",
       "      <th>0</th>\n",
       "      <th>1</th>\n",
       "      <th>2</th>\n",
       "      <th>3</th>\n",
       "      <th>4</th>\n",
       "      <th>5</th>\n",
       "      <th>6</th>\n",
       "      <th>7</th>\n",
       "      <th>8</th>\n",
       "      <th>9</th>\n",
       "      <th>...</th>\n",
       "      <th>162301</th>\n",
       "      <th>162302</th>\n",
       "      <th>162303</th>\n",
       "      <th>162304</th>\n",
       "      <th>162305</th>\n",
       "      <th>162306</th>\n",
       "      <th>162307</th>\n",
       "      <th>162308</th>\n",
       "      <th>162309</th>\n",
       "      <th>162310</th>\n",
       "    </tr>\n",
       "  </thead>\n",
       "  <tbody>\n",
       "    <tr>\n",
       "      <th>age_0</th>\n",
       "      <td>1</td>\n",
       "      <td>0</td>\n",
       "      <td>1</td>\n",
       "      <td>0</td>\n",
       "      <td>0</td>\n",
       "      <td>0</td>\n",
       "      <td>0</td>\n",
       "      <td>0</td>\n",
       "      <td>0</td>\n",
       "      <td>0</td>\n",
       "      <td>...</td>\n",
       "      <td>0</td>\n",
       "      <td>1</td>\n",
       "      <td>0</td>\n",
       "      <td>0</td>\n",
       "      <td>0</td>\n",
       "      <td>0</td>\n",
       "      <td>0</td>\n",
       "      <td>1</td>\n",
       "      <td>0</td>\n",
       "      <td>0</td>\n",
       "    </tr>\n",
       "    <tr>\n",
       "      <th>age_1</th>\n",
       "      <td>0</td>\n",
       "      <td>0</td>\n",
       "      <td>0</td>\n",
       "      <td>0</td>\n",
       "      <td>0</td>\n",
       "      <td>0</td>\n",
       "      <td>1</td>\n",
       "      <td>0</td>\n",
       "      <td>0</td>\n",
       "      <td>0</td>\n",
       "      <td>...</td>\n",
       "      <td>1</td>\n",
       "      <td>0</td>\n",
       "      <td>0</td>\n",
       "      <td>0</td>\n",
       "      <td>0</td>\n",
       "      <td>1</td>\n",
       "      <td>0</td>\n",
       "      <td>0</td>\n",
       "      <td>0</td>\n",
       "      <td>0</td>\n",
       "    </tr>\n",
       "    <tr>\n",
       "      <th>age_2</th>\n",
       "      <td>0</td>\n",
       "      <td>0</td>\n",
       "      <td>0</td>\n",
       "      <td>0</td>\n",
       "      <td>0</td>\n",
       "      <td>0</td>\n",
       "      <td>0</td>\n",
       "      <td>0</td>\n",
       "      <td>0</td>\n",
       "      <td>0</td>\n",
       "      <td>...</td>\n",
       "      <td>0</td>\n",
       "      <td>0</td>\n",
       "      <td>0</td>\n",
       "      <td>0</td>\n",
       "      <td>1</td>\n",
       "      <td>0</td>\n",
       "      <td>0</td>\n",
       "      <td>0</td>\n",
       "      <td>0</td>\n",
       "      <td>0</td>\n",
       "    </tr>\n",
       "    <tr>\n",
       "      <th>age_3</th>\n",
       "      <td>0</td>\n",
       "      <td>0</td>\n",
       "      <td>0</td>\n",
       "      <td>0</td>\n",
       "      <td>1</td>\n",
       "      <td>0</td>\n",
       "      <td>0</td>\n",
       "      <td>0</td>\n",
       "      <td>1</td>\n",
       "      <td>0</td>\n",
       "      <td>...</td>\n",
       "      <td>0</td>\n",
       "      <td>0</td>\n",
       "      <td>1</td>\n",
       "      <td>0</td>\n",
       "      <td>0</td>\n",
       "      <td>0</td>\n",
       "      <td>0</td>\n",
       "      <td>0</td>\n",
       "      <td>1</td>\n",
       "      <td>0</td>\n",
       "    </tr>\n",
       "    <tr>\n",
       "      <th>age_4</th>\n",
       "      <td>0</td>\n",
       "      <td>0</td>\n",
       "      <td>0</td>\n",
       "      <td>0</td>\n",
       "      <td>0</td>\n",
       "      <td>0</td>\n",
       "      <td>0</td>\n",
       "      <td>0</td>\n",
       "      <td>0</td>\n",
       "      <td>0</td>\n",
       "      <td>...</td>\n",
       "      <td>0</td>\n",
       "      <td>0</td>\n",
       "      <td>0</td>\n",
       "      <td>0</td>\n",
       "      <td>0</td>\n",
       "      <td>0</td>\n",
       "      <td>0</td>\n",
       "      <td>0</td>\n",
       "      <td>0</td>\n",
       "      <td>0</td>\n",
       "    </tr>\n",
       "  </tbody>\n",
       "</table>\n",
       "<p>5 rows × 162311 columns</p>\n",
       "</div>"
      ],
      "text/plain": [
       "cid    0       1       2       3       4       5       6       7       8       \\\n",
       "age_0       1       0       1       0       0       0       0       0       0   \n",
       "age_1       0       0       0       0       0       0       1       0       0   \n",
       "age_2       0       0       0       0       0       0       0       0       0   \n",
       "age_3       0       0       0       0       1       0       0       0       1   \n",
       "age_4       0       0       0       0       0       0       0       0       0   \n",
       "\n",
       "cid    9       ...  162301  162302  162303  162304  162305  162306  162307  \\\n",
       "age_0       0  ...       0       1       0       0       0       0       0   \n",
       "age_1       0  ...       1       0       0       0       0       1       0   \n",
       "age_2       0  ...       0       0       0       0       1       0       0   \n",
       "age_3       0  ...       0       0       1       0       0       0       0   \n",
       "age_4       0  ...       0       0       0       0       0       0       0   \n",
       "\n",
       "cid    162308  162309  162310  \n",
       "age_0       1       0       0  \n",
       "age_1       0       0       0  \n",
       "age_2       0       0       0  \n",
       "age_3       0       1       0  \n",
       "age_4       0       0       0  \n",
       "\n",
       "[5 rows x 162311 columns]"
      ]
     },
     "execution_count": 6,
     "metadata": {},
     "output_type": "execute_result"
    }
   ],
   "source": [
    "# make dummy variables for categorical variables\n",
    "shingles = pd.DataFrame(index=customers.index)\n",
    "shingles = pd.concat([shingles, pd.get_dummies(customers['age_group'], prefix='age')], axis=1)\n",
    "shingles = pd.concat([shingles, pd.get_dummies(customers['balance_group'], prefix='balance')], axis=1)\n",
    "shingles = pd.concat([shingles, pd.get_dummies(customers['tamount_group'], prefix='tamount')], axis=1)\n",
    "# transpose to get the shingles\n",
    "shingles = shingles.T\n",
    "shingles.head()"
   ]
  },
  {
   "cell_type": "markdown",
   "metadata": {},
   "source": [
    "#### 1.2 Fingerprint hashing"
   ]
  },
  {
   "attachments": {},
   "cell_type": "markdown",
   "metadata": {},
   "source": [
    "Now that we have our shingle matrix, we can start hashing the rows. We will use the MinHash algorithm to do this. To do so, we will define a function that takes a shingle matrix and number of permuations as the input, and returns the MinHash signature matrix. Note that we are setting the seed of the random number generator, so that we can get the same permutation when querying for similar customers."
   ]
  },
  {
   "cell_type": "code",
   "execution_count": 7,
   "metadata": {},
   "outputs": [
    {
     "name": "stdout",
     "output_type": "stream",
     "text": [
      "Signatures shape [signature_length, number of customers]: (40, 162311)\n"
     ]
    }
   ],
   "source": [
    "# import sparse matrix for shingles\n",
    "from scipy import sparse\n",
    "\n",
    "def get_signatures(shingles, signature_length: int) -> np.ndarray:\n",
    "    # set seed for reproducibility\n",
    "    np.random.seed(123)\n",
    "    signatures = np.full((signature_length, shingles.shape[1]), np.nan, dtype=np.int32)\n",
    "    for i in range(signature_length):\n",
    "\n",
    "        idx = np.random.choice(shingles.index, shingles.shape[0], replace=False)\n",
    "        sparse_shingles = sparse.csc_matrix(shingles.loc[idx].values)\n",
    "        rowidx = sparse_shingles.nonzero()[0]\n",
    "        colidx = sparse_shingles.nonzero()[1]\n",
    "        signatures[i,:] = rowidx[np.unique(colidx, return_index=True)[1]]\n",
    "    return signatures\n",
    "\n",
    "signatures = get_signatures(shingles, signature_length=40)\n",
    "print(f'Signatures shape [signature_length, number of customers]: {signatures.shape}')"
   ]
  },
  {
   "attachments": {},
   "cell_type": "markdown",
   "metadata": {},
   "source": [
    "Now, we will put customers in buckets based on their MinHash signatures. We will use the LSH algorithm to do this. We will define a function that takes the MinHash signature matrix, the number of bands, and the number of rows per band as the input, and returns a dictionary with the signatures as the keys, and the customers in the corresponding bucket as the values."
   ]
  },
  {
   "cell_type": "code",
   "execution_count": 8,
   "metadata": {},
   "outputs": [
    {
     "name": "stdout",
     "output_type": "stream",
     "text": [
      "First 5 customers in the first bucket: [0, 70, 199, 490, 690]\n"
     ]
    }
   ],
   "source": [
    "def create_buckets(signatures, band_size):\n",
    "    buckets = {}\n",
    "    rows = signatures.shape[0] // band_size\n",
    "    for i in range(rows):\n",
    "        for j in range(signatures.shape[1]):\n",
    "            bucket = (i, *signatures[i*band_size:(i+1)*band_size, j])\n",
    "            if bucket not in buckets:\n",
    "                buckets[bucket] = []\n",
    "            buckets[bucket].append(j)\n",
    "    return buckets\n",
    "\n",
    "band_size = 4\n",
    "buckets = create_buckets(signatures, band_size=2)\n",
    "\n",
    "print(f'First 5 customers in the first bucket: {buckets[list(buckets.keys())[0]][:5]}')"
   ]
  },
  {
   "cell_type": "markdown",
   "metadata": {},
   "source": [
    "#### 1.3 Locality Sensitive Hashing"
   ]
  },
  {
   "attachments": {},
   "cell_type": "markdown",
   "metadata": {},
   "source": [
    "Now, we first parse, shingle, shangle and hash the customers dataset, like we did with the transactions dataset. Note that we are using the same intervals of the quantiles as we did for the transactions dataset."
   ]
  },
  {
   "cell_type": "code",
   "execution_count": 9,
   "metadata": {},
   "outputs": [
    {
     "name": "stdout",
     "output_type": "stream",
     "text": [
      "Adding missing row balance_0\n",
      "Query signatures shape [signature_length, number of query users]: (40, 46)\n"
     ]
    }
   ],
   "source": [
    "query_users = datas.getQueryUsers()\n",
    "query_users['age_group'] = query_users['age'].apply(lambda x: getGroup(age_groups, x))\n",
    "query_users['balance_group'] = query_users['balance'].apply(lambda x: getGroup(balance_groups, x))\n",
    "query_users['tamount_group'] = query_users['tamount'].apply(lambda x: getGroup(tamount_groups, x))\n",
    "query_users.index = range(len(query_users))\n",
    "\n",
    "query_shingles = pd.DataFrame(index=query_users.index)\n",
    "query_shingles = pd.concat([query_shingles, pd.get_dummies(query_users['age_group'], prefix='age')], axis=1)\n",
    "query_shingles = pd.concat([query_shingles, pd.get_dummies(query_users['balance_group'], prefix='balance')], axis=1)\n",
    "query_shingles = pd.concat([query_shingles, pd.get_dummies(query_users['tamount_group'], prefix='tamount')], axis=1)\n",
    "query_shingles = query_shingles.T\n",
    "\n",
    "# Add missing rows to query_signatures\n",
    "for row in shingles.index:\n",
    "    if row not in query_shingles.index:\n",
    "        print(f'Adding missing row {row}')\n",
    "        query_shingles.loc[row] = 0\n",
    "\n",
    "query_shingles.sort_index(inplace=True)\n",
    "\n",
    "query_signatures = get_signatures(query_shingles, signature_length=40)\n",
    "print(f'Query signatures shape [signature_length, number of query users]: {query_signatures.shape}')"
   ]
  },
  {
   "attachments": {},
   "cell_type": "markdown",
   "metadata": {},
   "source": [
    "We know that, the probability that the minhash function for a random permutation of rows produces the same value for two sets equals the Jaccard similarity of those sets\n",
    "\n",
    "We know that, the probability of two customers being in the same bucket is equivalent to the Jaccard similarity of their shingles. Therefore, the match rate of the LSH algorithm is equivalent to the Jaccard similarity of the shingles. We have implemented 3 functions to query similar users:\n",
    "1. `query_intersection`: This function returns all the customers that are in the exact same buckets given a query customer.\n",
    "2. `query_unions`: This function returns all the customers that are in the same bucket at least once given a query customer.\n",
    "3. `query_num_matching_buckets`: This function returns the number of buckets that the query customer is in common with each customer in the dataset.\n",
    "\n",
    "Using the 3rd function, we can calculate the Jaccard similarity of a query customer, since the number of matches divided by the number of buckets is equivalent to the Jaccard similarity."
   ]
  },
  {
   "cell_type": "code",
   "execution_count": 10,
   "metadata": {},
   "outputs": [
    {
     "name": "stdout",
     "output_type": "stream",
     "text": [
      "Number of matching customers by intersection for the first 10 queries:\n",
      "80\t94\t321\t103\t74\t116\t76\t460\t201\t93\t\n",
      "Number of matching customers by union for the first 10 queries:\n",
      "1528\t6202\t3688\t2246\t924\t1117\t730\t3863\t2183\t14299\t"
     ]
    }
   ],
   "source": [
    "band_size = 4\n",
    "buckets = create_buckets(signatures, band_size=band_size)\n",
    "\n",
    "lshasher = lsh.LSH(buckets, query_signatures, band_size)\n",
    "\n",
    "intersections, _ = lshasher.query_intersection()\n",
    "print('Number of matching customers by intersection for the first 10 queries:')\n",
    "for i in range(10):\n",
    "    print(len(intersections[i]), end='\\t')\n",
    "\n",
    "\n",
    "print('\\nNumber of matching customers by union for the first 10 queries:')\n",
    "unions, _ = lshasher.query_unions()\n",
    "for i in range(10):\n",
    "    print(len(unions[i]), end='\\t')\n"
   ]
  },
  {
   "cell_type": "code",
   "execution_count": 11,
   "metadata": {},
   "outputs": [
    {
     "name": "stdout",
     "output_type": "stream",
     "text": [
      "Estimated Jaccard similarity for the first 10 customers, for the first query:\n",
      "Num matching buckets w/ cid 129152: 1, \t Jaccard similarity: 0.1\n",
      "Num matching buckets w/ cid 117042: 1, \t Jaccard similarity: 0.1\n",
      "Num matching buckets w/ cid 18561: 1, \t Jaccard similarity: 0.1\n",
      "Num matching buckets w/ cid 61424: 1, \t Jaccard similarity: 0.1\n",
      "Num matching buckets w/ cid 15606: 1, \t Jaccard similarity: 0.1\n"
     ]
    }
   ],
   "source": [
    "num_matching_buckets = lshasher.query_num_matching_buckets()\n",
    "\n",
    "print('Estimated Jaccard similarity for the first 10 customers, for the first query:')\n",
    "for i in np.random.choice(list(num_matching_buckets[0].keys()), 5):\n",
    "    print(f'Num matching buckets w/ cid {i}: {num_matching_buckets[0][i]}, \\t Jaccard similarity: {num_matching_buckets[0][i] / 10}')"
   ]
  },
  {
   "cell_type": "markdown",
   "metadata": {},
   "source": [
    "As you can see above, sometimes the intersection of the buckets is empty. In order to consistently rely on this method we must tune the number shingles and bands to make sure that the intersection is not empty. Let's inspect an example where we get a non-empty intersection."
   ]
  },
  {
   "cell_type": "code",
   "execution_count": 12,
   "metadata": {},
   "outputs": [
    {
     "data": {
      "text/plain": [
       "dob              1987-01-05 00:00:00\n",
       "balance                     10989.03\n",
       "tamount                        240.0\n",
       "age                               29\n",
       "age_group                          4\n",
       "balance_group                      4\n",
       "tamount_group                      1\n",
       "Name: 45, dtype: object"
      ]
     },
     "execution_count": 12,
     "metadata": {},
     "output_type": "execute_result"
    }
   ],
   "source": [
    "# get last query user\n",
    "query_users.iloc[-1]"
   ]
  },
  {
   "cell_type": "code",
   "execution_count": 13,
   "metadata": {},
   "outputs": [
    {
     "data": {
      "text/html": [
       "<div>\n",
       "<style scoped>\n",
       "    .dataframe tbody tr th:only-of-type {\n",
       "        vertical-align: middle;\n",
       "    }\n",
       "\n",
       "    .dataframe tbody tr th {\n",
       "        vertical-align: top;\n",
       "    }\n",
       "\n",
       "    .dataframe thead th {\n",
       "        text-align: right;\n",
       "    }\n",
       "</style>\n",
       "<table border=\"1\" class=\"dataframe\">\n",
       "  <thead>\n",
       "    <tr style=\"text-align: right;\">\n",
       "      <th></th>\n",
       "      <th>dob</th>\n",
       "      <th>gender</th>\n",
       "      <th>location</th>\n",
       "      <th>balance</th>\n",
       "      <th>age</th>\n",
       "      <th>ave_tamount</th>\n",
       "      <th>age_group</th>\n",
       "      <th>balance_group</th>\n",
       "      <th>tamount_group</th>\n",
       "    </tr>\n",
       "    <tr>\n",
       "      <th>cid</th>\n",
       "      <th></th>\n",
       "      <th></th>\n",
       "      <th></th>\n",
       "      <th></th>\n",
       "      <th></th>\n",
       "      <th></th>\n",
       "      <th></th>\n",
       "      <th></th>\n",
       "      <th></th>\n",
       "    </tr>\n",
       "  </thead>\n",
       "  <tbody>\n",
       "    <tr>\n",
       "      <th>71683</th>\n",
       "      <td>1987-01-21</td>\n",
       "      <td>M</td>\n",
       "      <td>MUMBAI</td>\n",
       "      <td>9371.24</td>\n",
       "      <td>29</td>\n",
       "      <td>236.666667</td>\n",
       "      <td>4</td>\n",
       "      <td>4</td>\n",
       "      <td>1</td>\n",
       "    </tr>\n",
       "    <tr>\n",
       "      <th>118276</th>\n",
       "      <td>1987-09-02</td>\n",
       "      <td>M</td>\n",
       "      <td>FARIDABAD</td>\n",
       "      <td>8493.48</td>\n",
       "      <td>29</td>\n",
       "      <td>198.000000</td>\n",
       "      <td>4</td>\n",
       "      <td>4</td>\n",
       "      <td>1</td>\n",
       "    </tr>\n",
       "    <tr>\n",
       "      <th>57861</th>\n",
       "      <td>1987-04-15</td>\n",
       "      <td>M</td>\n",
       "      <td>ROURKELA</td>\n",
       "      <td>9357.80</td>\n",
       "      <td>29</td>\n",
       "      <td>129.576667</td>\n",
       "      <td>4</td>\n",
       "      <td>4</td>\n",
       "      <td>1</td>\n",
       "    </tr>\n",
       "    <tr>\n",
       "      <th>70662</th>\n",
       "      <td>1986-11-28</td>\n",
       "      <td>M</td>\n",
       "      <td>LUCKNOW</td>\n",
       "      <td>10139.12</td>\n",
       "      <td>29</td>\n",
       "      <td>200.000000</td>\n",
       "      <td>4</td>\n",
       "      <td>4</td>\n",
       "      <td>1</td>\n",
       "    </tr>\n",
       "    <tr>\n",
       "      <th>13322</th>\n",
       "      <td>1987-07-28</td>\n",
       "      <td>F</td>\n",
       "      <td>BANGALORE</td>\n",
       "      <td>9082.17</td>\n",
       "      <td>29</td>\n",
       "      <td>245.490545</td>\n",
       "      <td>4</td>\n",
       "      <td>4</td>\n",
       "      <td>1</td>\n",
       "    </tr>\n",
       "  </tbody>\n",
       "</table>\n",
       "</div>"
      ],
      "text/plain": [
       "              dob gender   location   balance  age  ave_tamount  age_group  \\\n",
       "cid                                                                          \n",
       "71683  1987-01-21      M     MUMBAI   9371.24   29   236.666667          4   \n",
       "118276 1987-09-02      M  FARIDABAD   8493.48   29   198.000000          4   \n",
       "57861  1987-04-15      M   ROURKELA   9357.80   29   129.576667          4   \n",
       "70662  1986-11-28      M    LUCKNOW  10139.12   29   200.000000          4   \n",
       "13322  1987-07-28      F  BANGALORE   9082.17   29   245.490545          4   \n",
       "\n",
       "        balance_group  tamount_group  \n",
       "cid                                   \n",
       "71683               4              1  \n",
       "118276              4              1  \n",
       "57861               4              1  \n",
       "70662               4              1  \n",
       "13322               4              1  "
      ]
     },
     "execution_count": 13,
     "metadata": {},
     "output_type": "execute_result"
    }
   ],
   "source": [
    "customers.iloc[list(intersections[query_users.iloc[-1].name])].head()"
   ]
  },
  {
   "cell_type": "markdown",
   "metadata": {},
   "source": [
    "The customers above are pretty similar in their balance, transaction amount, and age. So we can say that our algorithm is working for some cases."
   ]
  },
  {
   "cell_type": "markdown",
   "metadata": {},
   "source": [
    "## 2. Grouping customers together!"
   ]
  },
  {
   "attachments": {},
   "cell_type": "markdown",
   "metadata": {},
   "source": [
    "### 2.1. Setting up the data"
   ]
  },
  {
   "cell_type": "code",
   "execution_count": 14,
   "metadata": {},
   "outputs": [
    {
     "data": {
      "text/html": [
       "<div>\n",
       "<style scoped>\n",
       "    .dataframe tbody tr th:only-of-type {\n",
       "        vertical-align: middle;\n",
       "    }\n",
       "\n",
       "    .dataframe tbody tr th {\n",
       "        vertical-align: top;\n",
       "    }\n",
       "\n",
       "    .dataframe thead th {\n",
       "        text-align: right;\n",
       "    }\n",
       "</style>\n",
       "<table border=\"1\" class=\"dataframe\">\n",
       "  <thead>\n",
       "    <tr style=\"text-align: right;\">\n",
       "      <th></th>\n",
       "      <th>dob</th>\n",
       "      <th>age</th>\n",
       "      <th>gender</th>\n",
       "      <th>location</th>\n",
       "      <th>balance</th>\n",
       "      <th>num_t</th>\n",
       "      <th>num_t_g100</th>\n",
       "      <th>avg_tamount</th>\n",
       "      <th>utilisation</th>\n",
       "    </tr>\n",
       "    <tr>\n",
       "      <th>cid</th>\n",
       "      <th></th>\n",
       "      <th></th>\n",
       "      <th></th>\n",
       "      <th></th>\n",
       "      <th></th>\n",
       "      <th></th>\n",
       "      <th></th>\n",
       "      <th></th>\n",
       "      <th></th>\n",
       "    </tr>\n",
       "  </thead>\n",
       "  <tbody>\n",
       "    <tr>\n",
       "      <th>0</th>\n",
       "      <td>1994-01-10</td>\n",
       "      <td>22</td>\n",
       "      <td>F</td>\n",
       "      <td>JAMSHEDPUR</td>\n",
       "      <td>17819.05</td>\n",
       "      <td>27</td>\n",
       "      <td>9</td>\n",
       "      <td>80.111111</td>\n",
       "      <td>17738.938889</td>\n",
       "    </tr>\n",
       "    <tr>\n",
       "      <th>1</th>\n",
       "      <td>1957-04-04</td>\n",
       "      <td>59</td>\n",
       "      <td>M</td>\n",
       "      <td>JHAJJAR</td>\n",
       "      <td>2270.69</td>\n",
       "      <td>12</td>\n",
       "      <td>11</td>\n",
       "      <td>9503.445000</td>\n",
       "      <td>-7232.755000</td>\n",
       "    </tr>\n",
       "    <tr>\n",
       "      <th>2</th>\n",
       "      <td>1996-11-26</td>\n",
       "      <td>19</td>\n",
       "      <td>F</td>\n",
       "      <td>MUMBAI</td>\n",
       "      <td>17874.44</td>\n",
       "      <td>11</td>\n",
       "      <td>10</td>\n",
       "      <td>940.348182</td>\n",
       "      <td>16934.091818</td>\n",
       "    </tr>\n",
       "    <tr>\n",
       "      <th>3</th>\n",
       "      <td>1973-09-14</td>\n",
       "      <td>43</td>\n",
       "      <td>F</td>\n",
       "      <td>MUMBAI</td>\n",
       "      <td>866503.21</td>\n",
       "      <td>13</td>\n",
       "      <td>13</td>\n",
       "      <td>2537.346923</td>\n",
       "      <td>863965.863077</td>\n",
       "    </tr>\n",
       "    <tr>\n",
       "      <th>5</th>\n",
       "      <td>1972-10-08</td>\n",
       "      <td>44</td>\n",
       "      <td>F</td>\n",
       "      <td>ITANAGAR</td>\n",
       "      <td>53609.20</td>\n",
       "      <td>11</td>\n",
       "      <td>11</td>\n",
       "      <td>1418.909091</td>\n",
       "      <td>52190.290909</td>\n",
       "    </tr>\n",
       "  </tbody>\n",
       "</table>\n",
       "</div>"
      ],
      "text/plain": [
       "           dob  age gender    location    balance  num_t  num_t_g100  \\\n",
       "cid                                                                    \n",
       "0   1994-01-10   22      F  JAMSHEDPUR   17819.05     27           9   \n",
       "1   1957-04-04   59      M     JHAJJAR    2270.69     12          11   \n",
       "2   1996-11-26   19      F      MUMBAI   17874.44     11          10   \n",
       "3   1973-09-14   43      F      MUMBAI  866503.21     13          13   \n",
       "5   1972-10-08   44      F    ITANAGAR   53609.20     11          11   \n",
       "\n",
       "     avg_tamount    utilisation  \n",
       "cid                              \n",
       "0      80.111111   17738.938889  \n",
       "1    9503.445000   -7232.755000  \n",
       "2     940.348182   16934.091818  \n",
       "3    2537.346923  863965.863077  \n",
       "5    1418.909091   52190.290909  "
      ]
     },
     "execution_count": 14,
     "metadata": {},
     "output_type": "execute_result"
    }
   ],
   "source": [
    "customersX = datas.getCustomersX().copy()\n",
    "customersX[customersX.columns[:9]].head()"
   ]
  },
  {
   "cell_type": "markdown",
   "metadata": {},
   "source": [
    "So we are sparing you to look at all the data cleaning and preprocessing we did, at least in this notebook. You may find the code in datasets.py file. Rather we are going to go over the variables we created and how we created them. So as we have explaiend before we have created new customer IDs. And the data we have for these customers have unique gender, location, balance; thus the 3 of the 7 variables that you asked for is automatically implemented. We have calculated the other 4 variables which were required."
   ]
  },
  {
   "cell_type": "code",
   "execution_count": 15,
   "metadata": {},
   "outputs": [
    {
     "data": {
      "text/html": [
       "<div>\n",
       "<style scoped>\n",
       "    .dataframe tbody tr th:only-of-type {\n",
       "        vertical-align: middle;\n",
       "    }\n",
       "\n",
       "    .dataframe tbody tr th {\n",
       "        vertical-align: top;\n",
       "    }\n",
       "\n",
       "    .dataframe thead th {\n",
       "        text-align: right;\n",
       "    }\n",
       "</style>\n",
       "<table border=\"1\" class=\"dataframe\">\n",
       "  <thead>\n",
       "    <tr style=\"text-align: right;\">\n",
       "      <th></th>\n",
       "      <th>tamount_balance_ratio</th>\n",
       "      <th>log_balance</th>\n",
       "      <th>log_tamount</th>\n",
       "      <th>balance_age_ratio</th>\n",
       "      <th>balance_leq_avg_salary</th>\n",
       "      <th>top_30_loc</th>\n",
       "      <th>transaction_freq_std</th>\n",
       "      <th>t_max</th>\n",
       "      <th>t_min</th>\n",
       "      <th>t_std</th>\n",
       "      <th>t_skew</th>\n",
       "      <th>t_kurt</th>\n",
       "      <th>transaction_freq</th>\n",
       "      <th>vol_weighted_transaction_freq</th>\n",
       "      <th>tamount_age_ratio</th>\n",
       "      <th>boomer</th>\n",
       "      <th>zoomer</th>\n",
       "      <th>days_till_bd</th>\n",
       "      <th>zodiac</th>\n",
       "    </tr>\n",
       "    <tr>\n",
       "      <th>cid</th>\n",
       "      <th></th>\n",
       "      <th></th>\n",
       "      <th></th>\n",
       "      <th></th>\n",
       "      <th></th>\n",
       "      <th></th>\n",
       "      <th></th>\n",
       "      <th></th>\n",
       "      <th></th>\n",
       "      <th></th>\n",
       "      <th></th>\n",
       "      <th></th>\n",
       "      <th></th>\n",
       "      <th></th>\n",
       "      <th></th>\n",
       "      <th></th>\n",
       "      <th></th>\n",
       "      <th></th>\n",
       "      <th></th>\n",
       "    </tr>\n",
       "  </thead>\n",
       "  <tbody>\n",
       "    <tr>\n",
       "      <th>0</th>\n",
       "      <td>0.004496</td>\n",
       "      <td>9.788080</td>\n",
       "      <td>4.395820</td>\n",
       "      <td>809.956818</td>\n",
       "      <td>True</td>\n",
       "      <td>False</td>\n",
       "      <td>30153.912763</td>\n",
       "      <td>270.0</td>\n",
       "      <td>4.00</td>\n",
       "      <td>88.562596</td>\n",
       "      <td>1.241343</td>\n",
       "      <td>0.196795</td>\n",
       "      <td>41.361702</td>\n",
       "      <td>3313.531915</td>\n",
       "      <td>3.641414</td>\n",
       "      <td>False</td>\n",
       "      <td>False</td>\n",
       "      <td>285</td>\n",
       "      <td>Capricorn</td>\n",
       "    </tr>\n",
       "    <tr>\n",
       "      <th>1</th>\n",
       "      <td>4.185267</td>\n",
       "      <td>7.728279</td>\n",
       "      <td>9.159515</td>\n",
       "      <td>38.486271</td>\n",
       "      <td>True</td>\n",
       "      <td>False</td>\n",
       "      <td>34481.324726</td>\n",
       "      <td>27999.0</td>\n",
       "      <td>75.05</td>\n",
       "      <td>12228.759447</td>\n",
       "      <td>0.883882</td>\n",
       "      <td>-1.225921</td>\n",
       "      <td>1.558020</td>\n",
       "      <td>14806.557533</td>\n",
       "      <td>161.075339</td>\n",
       "      <td>False</td>\n",
       "      <td>False</td>\n",
       "      <td>200</td>\n",
       "      <td>Aries</td>\n",
       "    </tr>\n",
       "    <tr>\n",
       "      <th>2</th>\n",
       "      <td>0.052609</td>\n",
       "      <td>9.791183</td>\n",
       "      <td>6.847313</td>\n",
       "      <td>940.760000</td>\n",
       "      <td>True</td>\n",
       "      <td>True</td>\n",
       "      <td>24111.348841</td>\n",
       "      <td>7196.0</td>\n",
       "      <td>45.00</td>\n",
       "      <td>2085.637967</td>\n",
       "      <td>3.254038</td>\n",
       "      <td>10.695982</td>\n",
       "      <td>5.469613</td>\n",
       "      <td>5143.340884</td>\n",
       "      <td>49.492010</td>\n",
       "      <td>False</td>\n",
       "      <td>True</td>\n",
       "      <td>36</td>\n",
       "      <td>Sagittarius</td>\n",
       "    </tr>\n",
       "    <tr>\n",
       "      <th>3</th>\n",
       "      <td>0.002928</td>\n",
       "      <td>13.672222</td>\n",
       "      <td>7.839268</td>\n",
       "      <td>20151.237442</td>\n",
       "      <td>False</td>\n",
       "      <td>True</td>\n",
       "      <td>32051.120040</td>\n",
       "      <td>6924.0</td>\n",
       "      <td>450.00</td>\n",
       "      <td>1636.970616</td>\n",
       "      <td>1.848912</td>\n",
       "      <td>4.021366</td>\n",
       "      <td>0.262788</td>\n",
       "      <td>666.785535</td>\n",
       "      <td>59.008068</td>\n",
       "      <td>False</td>\n",
       "      <td>False</td>\n",
       "      <td>37</td>\n",
       "      <td>Virgo</td>\n",
       "    </tr>\n",
       "    <tr>\n",
       "      <th>5</th>\n",
       "      <td>0.026468</td>\n",
       "      <td>10.889495</td>\n",
       "      <td>7.258348</td>\n",
       "      <td>1218.390909</td>\n",
       "      <td>False</td>\n",
       "      <td>False</td>\n",
       "      <td>40957.262504</td>\n",
       "      <td>2620.0</td>\n",
       "      <td>499.00</td>\n",
       "      <td>665.213117</td>\n",
       "      <td>0.354168</td>\n",
       "      <td>-0.402150</td>\n",
       "      <td>5.111326</td>\n",
       "      <td>7252.507260</td>\n",
       "      <td>32.247934</td>\n",
       "      <td>False</td>\n",
       "      <td>False</td>\n",
       "      <td>13</td>\n",
       "      <td>Libra</td>\n",
       "    </tr>\n",
       "  </tbody>\n",
       "</table>\n",
       "</div>"
      ],
      "text/plain": [
       "     tamount_balance_ratio  log_balance  log_tamount  balance_age_ratio  \\\n",
       "cid                                                                       \n",
       "0                 0.004496     9.788080     4.395820         809.956818   \n",
       "1                 4.185267     7.728279     9.159515          38.486271   \n",
       "2                 0.052609     9.791183     6.847313         940.760000   \n",
       "3                 0.002928    13.672222     7.839268       20151.237442   \n",
       "5                 0.026468    10.889495     7.258348        1218.390909   \n",
       "\n",
       "     balance_leq_avg_salary  top_30_loc  transaction_freq_std    t_max  \\\n",
       "cid                                                                      \n",
       "0                      True       False          30153.912763    270.0   \n",
       "1                      True       False          34481.324726  27999.0   \n",
       "2                      True        True          24111.348841   7196.0   \n",
       "3                     False        True          32051.120040   6924.0   \n",
       "5                     False       False          40957.262504   2620.0   \n",
       "\n",
       "      t_min         t_std    t_skew     t_kurt  transaction_freq  \\\n",
       "cid                                                                \n",
       "0      4.00     88.562596  1.241343   0.196795         41.361702   \n",
       "1     75.05  12228.759447  0.883882  -1.225921          1.558020   \n",
       "2     45.00   2085.637967  3.254038  10.695982          5.469613   \n",
       "3    450.00   1636.970616  1.848912   4.021366          0.262788   \n",
       "5    499.00    665.213117  0.354168  -0.402150          5.111326   \n",
       "\n",
       "     vol_weighted_transaction_freq  tamount_age_ratio  boomer  zoomer  \\\n",
       "cid                                                                     \n",
       "0                      3313.531915           3.641414   False   False   \n",
       "1                     14806.557533         161.075339   False   False   \n",
       "2                      5143.340884          49.492010   False    True   \n",
       "3                       666.785535          59.008068   False   False   \n",
       "5                      7252.507260          32.247934   False   False   \n",
       "\n",
       "     days_till_bd       zodiac  \n",
       "cid                             \n",
       "0             285    Capricorn  \n",
       "1             200        Aries  \n",
       "2              36  Sagittarius  \n",
       "3              37        Virgo  \n",
       "5              13        Libra  "
      ]
     },
     "execution_count": 15,
     "metadata": {},
     "output_type": "execute_result"
    }
   ],
   "source": [
    "customersX[customersX.columns[9:]].head()"
   ]
  },
  {
   "cell_type": "markdown",
   "metadata": {},
   "source": [
    "Moving on, you can see the variables we have added to the data. We have added the following variables:\n",
    "1. **age**: The age of the customer\n",
    "2. **tamount_balance_ratio**: The ratio of the average transaction amount to the balance of the customer\n",
    "3. **log_balance**: The log of the balance of the customer\n",
    "4. **log_tamount**: The log of the average transaction amount of the customer\n",
    "5. **balance_age_ratio**: The ratio of the balance to the age of the customer\n",
    "6. **balance_leq_avg_salary**: Whether the balance of the customer is less than or equal to the average salary in India, that is 3200 INR.\n",
    "7. **top_30_loc**: Whether the customer is from one of the top 30 most frequent locations in the dataset.\n",
    "8. **tranaction_freq**: The frequency of the transactions of the customer.\n",
    "9. **transaction_freq_std**: The standard deviation of the transaction frequency of the customer. This is to indicate how consistent the customer is in terms of transaction frequency.\n",
    "10. **vol_weighted_transaction_freq**: The volume weighted transaction frequency of the customer. This is to indicate how much the customer spends in terms of transaction frequency.\n",
    "11. **t_max**: The maximum transaction amount of the customer.\n",
    "12. **t_min**: The minimum transaction amount of the customer.\n",
    "13. **t_std**: The standard deviation of the transaction amount of the customer.\n",
    "14. **t_skew**: The skewness of the transaction amount of the customer.\n",
    "15. **t_kurt**: The kurtosis of the transaction amount of the customer.\n",
    "16. **tamount_age_ratio**: The ratio of the average transaction amount to the age of the customer.\n",
    "17. **boomer**: Whether the customer is a boomer or not, that is, above 60 years of age.\n",
    "18. **zoomer**: Whether the customer is a zoomer or not, that is, below 20 years of age.\n",
    "19. **days_till_bd**: The number of days till the customer's birthday. This can eliminate extra spending due to customer's birthday.\n",
    "20. **zodiac**: The zodiac sign of the customer."
   ]
  },
  {
   "cell_type": "markdown",
   "metadata": {},
   "source": [
    "#### 2.2 Choose your features (variables)!"
   ]
  },
  {
   "cell_type": "markdown",
   "metadata": {},
   "source": [
    "We will standardize our data before clustering because we want to give **equal importance** to all the variables. We will drop the location, zodiac variables because we believe it will cause overfitting. We will also convert columns with boolean values to 0 and 1."
   ]
  },
  {
   "cell_type": "code",
   "execution_count": 16,
   "metadata": {},
   "outputs": [
    {
     "name": "stdout",
     "output_type": "stream",
     "text": [
      "The number of non-numeric features is:  0\n"
     ]
    }
   ],
   "source": [
    "X = customersX.copy()\n",
    "X.drop(['dob', 'location', 'zodiac'], axis=1, inplace=True)\n",
    "X.loc[:, X.dtypes == 'bool'] = X.loc[:, X.dtypes == 'bool'].astype('int')\n",
    "X['gender'] = X['gender'].apply(lambda x: 1 if x == 'M' else 0)\n",
    "print('The number of non-numeric features is: ', sum([x not in ['int64', 'float64'] for x in X.dtypes]))"
   ]
  },
  {
   "cell_type": "code",
   "execution_count": 17,
   "metadata": {},
   "outputs": [
    {
     "name": "stdout",
     "output_type": "stream",
     "text": [
      "The number of cols with absolute mean larger than 0.001 is:  0\n",
      "The number of cols with absolute std larger than 1.0001 or smaller than 0.9999 is:  0\n"
     ]
    }
   ],
   "source": [
    "X = (X - X.mean()) / X.std()\n",
    "print('The number of cols with absolute mean larger than 0.001 is: ', sum(abs(X.mean()) > 0.001))\n",
    "print('The number of cols with absolute std larger than 1.0001 or smaller than 0.9999 is: ', sum(abs(X.std() - 1) > 0.001) + sum(X.std() < 0.9999))"
   ]
  },
  {
   "cell_type": "markdown",
   "metadata": {},
   "source": [
    "We will apply PCA to reduce the dimensionality of our data. Since we have standardised our data, it is also equivalent to Factor Analysis with the assumption of the noise of the components is isotropic. We also don't use any categorical variables, so we don't need to use Multiple correspondence analysis."
   ]
  },
  {
   "cell_type": "code",
   "execution_count": 18,
   "metadata": {},
   "outputs": [
    {
     "name": "stdout",
     "output_type": "stream",
     "text": [
      "The number of PCA components that explain 70% of the variance is:  9\n"
     ]
    },
    {
     "data": {
      "image/png": "[encoded data removed]",
      "text/plain": [
       "<Figure size 1440x288 with 1 Axes>"
      ]
     },
     "metadata": {
      "needs_background": "light"
     },
     "output_type": "display_data"
    }
   ],
   "source": [
    "# import pca\n",
    "from sklearn.decomposition import PCA\n",
    "pca = PCA().fit(X)\n",
    "# Plot the explained variance\n",
    "pd.Series(np.cumsum(pca.explained_variance_ratio_)).plot(\n",
    "    title='Explained variance ratio by PCA components',\n",
    "    figsize=(20, 4),\n",
    "    grid=True,\n",
    "    xlabel='PCA components',\n",
    "    ylabel='Explained variance ratio'\n",
    ")\n",
    "\n",
    "print('The number of PCA components that explain 70% of the variance is: ', np.where(np.cumsum(pca.explained_variance_ratio_) > 0.70)[0][0] + 1)"
   ]
  },
  {
   "cell_type": "code",
   "execution_count": 19,
   "metadata": {},
   "outputs": [],
   "source": [
    "pca = PCA(n_components=9).fit(X)\n",
    "XPC = pca.transform(X)"
   ]
  },
  {
   "cell_type": "markdown",
   "metadata": {},
   "source": [
    "#### 2.3 Clustering!"
   ]
  },
  {
   "attachments": {},
   "cell_type": "markdown",
   "metadata": {},
   "source": [
    "Below is our implementation of K-means clustering using map-reduce. We have created 2 functions to assist in the clustering process:\n",
    "1. `assign_cluster`: This function takes a data point and the centroids as the input, and finds the closest centroid. It then passes the index of the closest centroid, and a tuple of 1 and the data point as the output. This is because we want to keep track of the number of data points in each cluster. This function is used in the **map** step of the map-reduce algorithm.\n",
    "2. `update_centroids`: This function takes the output of the `assign_cluster` function, and calculates the sum of the data points and the number of data points in each cluster. This function is used in the **reduce** step of the map-reduce algorithm.\n",
    "\n",
    "Afterwards, we take the results of the map-reduce algorithm, and calculate the new centroids by dividing the sum of the data points by the number of data points in each cluster."
   ]
  },
  {
   "cell_type": "code",
   "execution_count": 20,
   "metadata": {},
   "outputs": [],
   "source": [
    "from pyspark import SparkContext\n",
    "\n",
    "def assign_cluster(row, centroids):\n",
    "    cluster = np.argmin(np.sum((centroids - row) ** 2, axis=1))\n",
    "    return (cluster, (1, row))\n",
    "\n",
    "def update_centroids(x, y):\n",
    "    # Returns the sum of number of observations and the sum of the rows\n",
    "    return (x[0] + y[0], x[1] + y[1])\n",
    "\n",
    "def kmeans(X, k, max_iter=10, epsilon=0.0001, verbose=True):\n",
    "    sc = SparkContext.getOrCreate()\n",
    "    rdd = sc.parallelize(X)\n",
    "\n",
    "    centroids = X[np.random.choice(X.shape[0], k, replace=False), :]\n",
    "    sse = np.inf\n",
    "\n",
    "    for j in (pbar:= tqdm(range(max_iter), desc='KMeans iterations')):\n",
    "        mapResults = rdd.map(lambda x: assign_cluster(x, centroids)).reduceByKey(update_centroids).collect()\n",
    "        centroids = np.array([mapResults[i][1][1] / mapResults[i][1][0] for i in range(k)])\n",
    " \n",
    "        clusters = [row[0] for row in rdd.map(lambda x: assign_cluster(x, centroids)).collect()]\n",
    "        new_sse = np.sum((np.dot(pd.get_dummies(clusters).values, centroids) - X) ** 2)\n",
    "        \n",
    "        if (new_sse / sse) > (1 - epsilon):\n",
    "            if verbose:\n",
    "                print(f'Converged, in {j + 1} iterations :))')\n",
    "            break\n",
    "        \n",
    "        if verbose:\n",
    "            pbar.set_description(f'KMeans iterations {j + 1}/{max_iter} (SSE: {sse:.2f}), rate: {(new_sse / sse):.5f}')\n",
    "        sse = new_sse\n",
    "\n",
    "    return clusters, centroids, sse"
   ]
  },
  {
   "cell_type": "code",
   "execution_count": 38,
   "metadata": {},
   "outputs": [
    {
     "name": "stderr",
     "output_type": "stream",
     "text": [
      "KMeans iterations:  10%|█         | 5/50 [00:09<01:21,  1.81s/it]               \n",
      "KMeans iterations:  72%|███████▏  | 36/50 [00:56<00:22,  1.58s/it]              \n",
      "KMeans iterations:  30%|███       | 15/50 [00:25<01:00,  1.72s/it]              \n",
      "KMeans iterations:  14%|█▍        | 7/50 [00:16<01:40,  2.34s/it]               \n"
     ]
    },
    {
     "ename": "KeyboardInterrupt",
     "evalue": "",
     "output_type": "error",
     "traceback": [
      "\u001b[0;31m---------------------------------------------------------------------------\u001b[0m",
      "\u001b[0;31mKeyboardInterrupt\u001b[0m                         Traceback (most recent call last)",
      "\u001b[1;32m/Users/cemsirin/Documents/GitHub/ADM_Homework_4/main.ipynb Cell 46\u001b[0m in \u001b[0;36m<cell line: 5>\u001b[0;34m()\u001b[0m\n\u001b[1;32m      <a href='vscode-notebook-cell:/Users/cemsirin/Documents/GitHub/ADM_Homework_4/main.ipynb#Y230sZmlsZQ%3D%3D?line=4'>5</a>\u001b[0m \u001b[39mfor\u001b[39;00m i, k \u001b[39min\u001b[39;00m \u001b[39menumerate\u001b[39m(number_of_clusters_grid):\n\u001b[1;32m      <a href='vscode-notebook-cell:/Users/cemsirin/Documents/GitHub/ADM_Homework_4/main.ipynb#Y230sZmlsZQ%3D%3D?line=5'>6</a>\u001b[0m     \u001b[39mfor\u001b[39;00m j \u001b[39min\u001b[39;00m \u001b[39mrange\u001b[39m(num_rep):\n\u001b[0;32m----> <a href='vscode-notebook-cell:/Users/cemsirin/Documents/GitHub/ADM_Homework_4/main.ipynb#Y230sZmlsZQ%3D%3D?line=6'>7</a>\u001b[0m         _, _, sse_score \u001b[39m=\u001b[39m kmeans(XPC, k, \u001b[39m50\u001b[39;49m, verbose\u001b[39m=\u001b[39;49m\u001b[39mFalse\u001b[39;49;00m)\n\u001b[1;32m      <a href='vscode-notebook-cell:/Users/cemsirin/Documents/GitHub/ADM_Homework_4/main.ipynb#Y230sZmlsZQ%3D%3D?line=7'>8</a>\u001b[0m         \u001b[39mif\u001b[39;00m sse_score \u001b[39m<\u001b[39m sse_scores[i]:\n\u001b[1;32m      <a href='vscode-notebook-cell:/Users/cemsirin/Documents/GitHub/ADM_Homework_4/main.ipynb#Y230sZmlsZQ%3D%3D?line=8'>9</a>\u001b[0m             sse_scores[i] \u001b[39m=\u001b[39m sse_score\n",
      "\u001b[1;32m/Users/cemsirin/Documents/GitHub/ADM_Homework_4/main.ipynb Cell 46\u001b[0m in \u001b[0;36mkmeans\u001b[0;34m(X, k, max_iter, epsilon, verbose)\u001b[0m\n\u001b[1;32m     <a href='vscode-notebook-cell:/Users/cemsirin/Documents/GitHub/ADM_Homework_4/main.ipynb#Y230sZmlsZQ%3D%3D?line=19'>20</a>\u001b[0m centroids \u001b[39m=\u001b[39m np\u001b[39m.\u001b[39marray([mapResults[i][\u001b[39m1\u001b[39m][\u001b[39m1\u001b[39m] \u001b[39m/\u001b[39m mapResults[i][\u001b[39m1\u001b[39m][\u001b[39m0\u001b[39m] \u001b[39mfor\u001b[39;00m i \u001b[39min\u001b[39;00m \u001b[39mrange\u001b[39m(k)])\n\u001b[1;32m     <a href='vscode-notebook-cell:/Users/cemsirin/Documents/GitHub/ADM_Homework_4/main.ipynb#Y230sZmlsZQ%3D%3D?line=21'>22</a>\u001b[0m clusters \u001b[39m=\u001b[39m [row[\u001b[39m0\u001b[39m] \u001b[39mfor\u001b[39;00m row \u001b[39min\u001b[39;00m rdd\u001b[39m.\u001b[39mmap(\u001b[39mlambda\u001b[39;00m x: assign_cluster(x, centroids))\u001b[39m.\u001b[39mcollect()]\n\u001b[0;32m---> <a href='vscode-notebook-cell:/Users/cemsirin/Documents/GitHub/ADM_Homework_4/main.ipynb#Y230sZmlsZQ%3D%3D?line=22'>23</a>\u001b[0m new_sse \u001b[39m=\u001b[39m np\u001b[39m.\u001b[39msum((np\u001b[39m.\u001b[39mdot(pd\u001b[39m.\u001b[39;49mget_dummies(clusters)\u001b[39m.\u001b[39mvalues, centroids) \u001b[39m-\u001b[39m X) \u001b[39m*\u001b[39m\u001b[39m*\u001b[39m \u001b[39m2\u001b[39m)\n\u001b[1;32m     <a href='vscode-notebook-cell:/Users/cemsirin/Documents/GitHub/ADM_Homework_4/main.ipynb#Y230sZmlsZQ%3D%3D?line=24'>25</a>\u001b[0m \u001b[39mif\u001b[39;00m (new_sse \u001b[39m/\u001b[39m sse) \u001b[39m>\u001b[39m (\u001b[39m1\u001b[39m \u001b[39m-\u001b[39m epsilon):\n\u001b[1;32m     <a href='vscode-notebook-cell:/Users/cemsirin/Documents/GitHub/ADM_Homework_4/main.ipynb#Y230sZmlsZQ%3D%3D?line=25'>26</a>\u001b[0m     \u001b[39mif\u001b[39;00m verbose:\n",
      "File \u001b[0;32m~/opt/anaconda3/lib/python3.9/site-packages/pandas/core/reshape/reshape.py:989\u001b[0m, in \u001b[0;36mget_dummies\u001b[0;34m(data, prefix, prefix_sep, dummy_na, columns, sparse, drop_first, dtype)\u001b[0m\n\u001b[1;32m    987\u001b[0m     result \u001b[39m=\u001b[39m concat(with_dummies, axis\u001b[39m=\u001b[39m\u001b[39m1\u001b[39m)\n\u001b[1;32m    988\u001b[0m \u001b[39melse\u001b[39;00m:\n\u001b[0;32m--> 989\u001b[0m     result \u001b[39m=\u001b[39m _get_dummies_1d(\n\u001b[1;32m    990\u001b[0m         data,\n\u001b[1;32m    991\u001b[0m         prefix,\n\u001b[1;32m    992\u001b[0m         prefix_sep,\n\u001b[1;32m    993\u001b[0m         dummy_na,\n\u001b[1;32m    994\u001b[0m         sparse\u001b[39m=\u001b[39;49msparse,\n\u001b[1;32m    995\u001b[0m         drop_first\u001b[39m=\u001b[39;49mdrop_first,\n\u001b[1;32m    996\u001b[0m         dtype\u001b[39m=\u001b[39;49mdtype,\n\u001b[1;32m    997\u001b[0m     )\n\u001b[1;32m    998\u001b[0m \u001b[39mreturn\u001b[39;00m result\n",
      "File \u001b[0;32m~/opt/anaconda3/lib/python3.9/site-packages/pandas/core/reshape/reshape.py:1013\u001b[0m, in \u001b[0;36m_get_dummies_1d\u001b[0;34m(data, prefix, prefix_sep, dummy_na, sparse, drop_first, dtype)\u001b[0m\n\u001b[1;32m   1010\u001b[0m \u001b[39mfrom\u001b[39;00m \u001b[39mpandas\u001b[39;00m\u001b[39m.\u001b[39;00m\u001b[39mcore\u001b[39;00m\u001b[39m.\u001b[39;00m\u001b[39mreshape\u001b[39;00m\u001b[39m.\u001b[39;00m\u001b[39mconcat\u001b[39;00m \u001b[39mimport\u001b[39;00m concat\n\u001b[1;32m   1012\u001b[0m \u001b[39m# Series avoids inconsistent NaN handling\u001b[39;00m\n\u001b[0;32m-> 1013\u001b[0m codes, levels \u001b[39m=\u001b[39m factorize_from_iterable(Series(data))\n\u001b[1;32m   1015\u001b[0m \u001b[39mif\u001b[39;00m dtype \u001b[39mis\u001b[39;00m \u001b[39mNone\u001b[39;00m:\n\u001b[1;32m   1016\u001b[0m     dtype \u001b[39m=\u001b[39m np\u001b[39m.\u001b[39mdtype(np\u001b[39m.\u001b[39muint8)\n",
      "File \u001b[0;32m~/opt/anaconda3/lib/python3.9/site-packages/pandas/core/series.py:451\u001b[0m, in \u001b[0;36mSeries.__init__\u001b[0;34m(self, data, index, dtype, name, copy, fastpath)\u001b[0m\n\u001b[1;32m    449\u001b[0m         data \u001b[39m=\u001b[39m data\u001b[39m.\u001b[39mcopy()\n\u001b[1;32m    450\u001b[0m \u001b[39melse\u001b[39;00m:\n\u001b[0;32m--> 451\u001b[0m     data \u001b[39m=\u001b[39m sanitize_array(data, index, dtype, copy)\n\u001b[1;32m    453\u001b[0m     manager \u001b[39m=\u001b[39m get_option(\u001b[39m\"\u001b[39m\u001b[39mmode.data_manager\u001b[39m\u001b[39m\"\u001b[39m)\n\u001b[1;32m    454\u001b[0m     \u001b[39mif\u001b[39;00m manager \u001b[39m==\u001b[39m \u001b[39m\"\u001b[39m\u001b[39mblock\u001b[39m\u001b[39m\"\u001b[39m:\n",
      "File \u001b[0;32m~/opt/anaconda3/lib/python3.9/site-packages/pandas/core/construction.py:593\u001b[0m, in \u001b[0;36msanitize_array\u001b[0;34m(data, index, dtype, copy, raise_cast_failure, allow_2d)\u001b[0m\n\u001b[1;32m    591\u001b[0m     subarr \u001b[39m=\u001b[39m _try_cast(data, dtype, copy, raise_cast_failure)\n\u001b[1;32m    592\u001b[0m \u001b[39melse\u001b[39;00m:\n\u001b[0;32m--> 593\u001b[0m     subarr \u001b[39m=\u001b[39m maybe_convert_platform(data)\n\u001b[1;32m    594\u001b[0m     \u001b[39mif\u001b[39;00m subarr\u001b[39m.\u001b[39mdtype \u001b[39m==\u001b[39m \u001b[39mobject\u001b[39m:\n\u001b[1;32m    595\u001b[0m         subarr \u001b[39m=\u001b[39m cast(np\u001b[39m.\u001b[39mndarray, subarr)\n",
      "File \u001b[0;32m~/opt/anaconda3/lib/python3.9/site-packages/pandas/core/dtypes/cast.py:130\u001b[0m, in \u001b[0;36mmaybe_convert_platform\u001b[0;34m(values)\u001b[0m\n\u001b[1;32m    128\u001b[0m \u001b[39mif\u001b[39;00m arr\u001b[39m.\u001b[39mdtype \u001b[39m==\u001b[39m _dtype_obj:\n\u001b[1;32m    129\u001b[0m     arr \u001b[39m=\u001b[39m cast(np\u001b[39m.\u001b[39mndarray, arr)\n\u001b[0;32m--> 130\u001b[0m     arr \u001b[39m=\u001b[39m lib\u001b[39m.\u001b[39;49mmaybe_convert_objects(arr)\n\u001b[1;32m    132\u001b[0m \u001b[39mreturn\u001b[39;00m arr\n",
      "\u001b[0;31mKeyboardInterrupt\u001b[0m: "
     ]
    }
   ],
   "source": [
    "number_of_clusters_grid = [2, 3, 4, 5, 6, 7, 8, 9, 10]\n",
    "sse_scores = np.inf * np.ones(len(number_of_clusters_grid))\n",
    "num_rep = 1\n",
    "\n",
    "for i, k in enumerate(number_of_clusters_grid):\n",
    "    for j in range(num_rep):\n",
    "        _, _, sse_score = kmeans(XPC, k, 50, verbose=False)\n",
    "        if sse_score < sse_scores[i]:\n",
    "            sse_scores[i] = sse_score\n",
    "\n",
    "pd.Series(sse_scores, index=number_of_clusters_grid).plot(\n",
    "    title='SSE by number of clusters',\n",
    "    figsize=(20, 4),\n",
    "    grid=True,\n",
    "    xlabel='Number of clusters',\n",
    "    ylabel='SSE'\n",
    ")"
   ]
  },
  {
   "cell_type": "markdown",
   "metadata": {},
   "source": [
    "We were planning to support our decision with the elbow method, however, as you can see on the plot above, there are no clear \"elbows\". Practically, banks want customer segments that are easy to understand, and reflect real life. So we believe that the number of clusters should be between 3 and 7. Looking at the plot we see decreases in 4 and 6, so we will continue with these two numbers."
   ]
  },
  {
   "cell_type": "code",
   "execution_count": 50,
   "metadata": {},
   "outputs": [
    {
     "name": "stderr",
     "output_type": "stream",
     "text": [
      "KMeans iterations:  50%|█████     | 25/50 [00:34<00:34,  1.40s/it]              \n",
      "KMeans iterations:  32%|███▏      | 16/50 [00:18<00:39,  1.15s/it]              \n"
     ]
    }
   ],
   "source": [
    "clusters4, centroids4, _ = kmeans(XPC, 4, 50, verbose=False)\n",
    "clusters6, centroids6, _ = kmeans(XPC, 6, 50, verbose=False)"
   ]
  },
  {
   "cell_type": "code",
   "execution_count": 52,
   "metadata": {},
   "outputs": [
    {
     "data": {
      "image/png": "[encoded data removed]",
      "text/plain": [
       "<Figure size 1440x720 with 2 Axes>"
      ]
     },
     "metadata": {},
     "output_type": "display_data"
    }
   ],
   "source": [
    "import matplotlib.pyplot as plt\n",
    "# Plot according to the first two principal components\n",
    "fig, axs = plt.subplots(1, 2, figsize=(20, 10))\n",
    "\n",
    "\n",
    "# Scaterplot with 4 clusters\n",
    "axs[0].scatter(XPC[:, 0], XPC[:, 1], c=clusters4, cmap='tab10', alpha=0.5)\n",
    "axs[0].scatter(centroids4[:, 0], centroids4[:, 1], marker='x', s=100, c='k')\n",
    "axs[0].set_title('KMeans clustering with 4 clusters')\n",
    "axs[0].set_xlabel('PC1'); axs[0].set_ylabel('PC2')\n",
    "axs[0].set_xlim(-5,20); axs[0].set_ylim(-20,20)\n",
    "axs[0].grid()\n",
    "\n",
    "# Scaterplot with 6 clusters\n",
    "axs[1].scatter(XPC[:, 0], XPC[:, 1], c=clusters6, cmap='tab10', alpha=0.5)\n",
    "axs[1].scatter(centroids6[:, 0], centroids6[:, 1], marker='x', s=100, c='k')\n",
    "axs[1].set_title('KMeans clustering with 6 clusters')\n",
    "axs[1].set_xlabel('PC1'); axs[1].set_ylabel('PC2')\n",
    "axs[1].set_xlim(-5,20); axs[1].set_ylim(-20,20)\n",
    "axs[1].grid()\n",
    "\n",
    "plt.show()\n"
   ]
  },
  {
   "cell_type": "markdown",
   "metadata": {},
   "source": [
    "#### 2.4 Analysing your results!"
   ]
  },
  {
   "cell_type": "markdown",
   "metadata": {},
   "source": [
    "Now we select 2-3 variables, that is; gender, age, balance; to create our pivot table."
   ]
  },
  {
   "cell_type": "code",
   "execution_count": 55,
   "metadata": {},
   "outputs": [
    {
     "data": {
      "text/html": [
       "<div>\n",
       "<style scoped>\n",
       "    .dataframe tbody tr th:only-of-type {\n",
       "        vertical-align: middle;\n",
       "    }\n",
       "\n",
       "    .dataframe tbody tr th {\n",
       "        vertical-align: top;\n",
       "    }\n",
       "\n",
       "    .dataframe thead th {\n",
       "        text-align: right;\n",
       "    }\n",
       "</style>\n",
       "<table border=\"1\" class=\"dataframe\">\n",
       "  <thead>\n",
       "    <tr style=\"text-align: right;\">\n",
       "      <th></th>\n",
       "      <th>below 25</th>\n",
       "      <th>25 to 28</th>\n",
       "      <th>28 to 34</th>\n",
       "      <th>34+</th>\n",
       "      <th>below 5240 INR</th>\n",
       "      <th>5240 to 17230 INR</th>\n",
       "      <th>17230 to 55530 INR</th>\n",
       "      <th>55530+ INR</th>\n",
       "      <th>F</th>\n",
       "      <th>M</th>\n",
       "    </tr>\n",
       "    <tr>\n",
       "      <th>clusters4</th>\n",
       "      <th></th>\n",
       "      <th></th>\n",
       "      <th></th>\n",
       "      <th></th>\n",
       "      <th></th>\n",
       "      <th></th>\n",
       "      <th></th>\n",
       "      <th></th>\n",
       "      <th></th>\n",
       "      <th></th>\n",
       "    </tr>\n",
       "  </thead>\n",
       "  <tbody>\n",
       "    <tr>\n",
       "      <th>0</th>\n",
       "      <td>5.98</td>\n",
       "      <td>6.91</td>\n",
       "      <td>15.69</td>\n",
       "      <td>71.41</td>\n",
       "      <td>10.64</td>\n",
       "      <td>10.90</td>\n",
       "      <td>19.68</td>\n",
       "      <td>58.78</td>\n",
       "      <td>29.65</td>\n",
       "      <td>70.35</td>\n",
       "    </tr>\n",
       "    <tr>\n",
       "      <th>1</th>\n",
       "      <td>40.86</td>\n",
       "      <td>23.31</td>\n",
       "      <td>23.76</td>\n",
       "      <td>12.07</td>\n",
       "      <td>41.83</td>\n",
       "      <td>38.01</td>\n",
       "      <td>19.36</td>\n",
       "      <td>0.79</td>\n",
       "      <td>23.79</td>\n",
       "      <td>76.21</td>\n",
       "    </tr>\n",
       "    <tr>\n",
       "      <th>2</th>\n",
       "      <td>28.17</td>\n",
       "      <td>22.51</td>\n",
       "      <td>27.61</td>\n",
       "      <td>21.71</td>\n",
       "      <td>17.65</td>\n",
       "      <td>25.35</td>\n",
       "      <td>29.81</td>\n",
       "      <td>27.18</td>\n",
       "      <td>28.25</td>\n",
       "      <td>71.75</td>\n",
       "    </tr>\n",
       "    <tr>\n",
       "      <th>3</th>\n",
       "      <td>15.43</td>\n",
       "      <td>18.05</td>\n",
       "      <td>30.43</td>\n",
       "      <td>36.09</td>\n",
       "      <td>1.32</td>\n",
       "      <td>4.62</td>\n",
       "      <td>32.80</td>\n",
       "      <td>61.26</td>\n",
       "      <td>36.64</td>\n",
       "      <td>63.36</td>\n",
       "    </tr>\n",
       "  </tbody>\n",
       "</table>\n",
       "</div>"
      ],
      "text/plain": [
       "           below 25  25 to 28  28 to 34   34+  below 5240 INR  \\\n",
       "clusters4                                                       \n",
       "0              5.98      6.91     15.69 71.41           10.64   \n",
       "1             40.86     23.31     23.76 12.07           41.83   \n",
       "2             28.17     22.51     27.61 21.71           17.65   \n",
       "3             15.43     18.05     30.43 36.09            1.32   \n",
       "\n",
       "           5240 to 17230 INR  17230 to 55530 INR  55530+ INR     F     M  \n",
       "clusters4                                                                 \n",
       "0                      10.90               19.68       58.78 29.65 70.35  \n",
       "1                      38.01               19.36        0.79 23.79 76.21  \n",
       "2                      25.35               29.81       27.18 28.25 71.75  \n",
       "3                       4.62               32.80       61.26 36.64 63.36  "
      ]
     },
     "execution_count": 55,
     "metadata": {},
     "output_type": "execute_result"
    }
   ],
   "source": [
    "customersX['clusters4'] = clusters4\n",
    "customersX['clusters6'] = clusters6\n",
    "\n",
    "selected_variables = ['age', 'gender', 'balance']\n",
    "cust4pivot = customersX.copy()\n",
    "\n",
    "cust4pivot['age_group'] = pd.qcut(customersX['age'], 4, labels=False)\n",
    "cust4pivot['balance_group'] = pd.qcut(customersX['balance'], 4, labels=False)\n",
    "\n",
    "# make dummies\n",
    "cust4pivot = pd.get_dummies(cust4pivot, columns=['gender', 'age_group', 'balance_group'])\n",
    "\n",
    "# pivot table\n",
    "cols = ['gender_0', 'gender_1', 'age_group_0', 'age_group_1', 'age_group_2', 'age_group_3', 'balance_group_0', 'balance_group_1', 'balance_group_2', 'balance_group_3']\n",
    "cust4pivot = cust4pivot.pivot_table(index='clusters4', values=cols, aggfunc='mean')\n",
    "pd.options.display.float_format = '{:,.2f}'.format\n",
    "\n",
    "cust4pivot.columns = ['below 25', '25 to 28', '28 to 34', '34+', 'below 5240 INR', '5240 to 17230 INR', '17230 to 55530 INR', '55530+ INR', 'F', 'M']\n",
    "cust4pivot = 100 * cust4pivot\n",
    "cust4pivot"
   ]
  },
  {
   "attachments": {},
   "cell_type": "markdown",
   "metadata": {},
   "source": [
    "From this table we can see age, balance, and gender distribution of each cluster. For example, cluster 2 is older, and cluster 1 is the richest. However, we had a different approach of analysis and here is how we did it. We calculated the difference between the mean of each variable in each cluster and the mean of the whole dataset. We then sorted the clusters based on the difference of the mean of the variable. We then plotted the difference of the mean of the variable for each cluster."
   ]
  },
  {
   "cell_type": "code",
   "execution_count": 56,
   "metadata": {},
   "outputs": [],
   "source": [
    "variables_to_inspect = ['age', 'gender', 'balance', 'log_balance', 'avg_tamount', 'top_30_loc', 'transaction_freq']\n",
    "variables_to_inspect = [*customersX.columns[1:2], *customersX.columns[4:25]]\n",
    "customersX['clusters4'] = clusters4\n",
    "customersX['clusters6'] = clusters6\n",
    "customersX['gender'] = customersX['gender'].apply(lambda x: 1 if x == 'M' else 0)\n",
    "\n",
    "c4stomers = customersX.groupby('clusters4').agg({col: 'mean' for col in variables_to_inspect})\n",
    "(c4stomers - customersX[variables_to_inspect].mean()) / customersX[variables_to_inspect].std()\n",
    "# merge with columns\n",
    "Z_scores = (c4stomers - customersX[variables_to_inspect].mean()) / customersX[variables_to_inspect].std()"
   ]
  },
  {
   "cell_type": "code",
   "execution_count": 60,
   "metadata": {},
   "outputs": [
    {
     "data": {
      "image/png": "[encoded data removed]",
      "text/plain": [
       "<Figure size 1440x720 with 4 Axes>"
      ]
     },
     "metadata": {},
     "output_type": "display_data"
    }
   ],
   "source": [
    "import seaborn as sns\n",
    "import itertools\n",
    "sns.set_style('darkgrid')\n",
    "# Bar plot\n",
    "def colors_from_values(values, palette_name):\n",
    "    maximum = max(Z_scores.abs().max())\n",
    "    # normalize the values to range [0, 1]\n",
    "    normalized = values\n",
    "    normalized[normalized < 0] = - normalized[normalized < 0] / normalized.min() * 500\n",
    "    normalized[normalized > 0] = normalized[normalized > 0] / normalized.max() * 500 -1\n",
    "    normalized = normalized + 500\n",
    "    # convert to indices\n",
    "    indices = np.round(normalized).astype(np.int32)\n",
    "    # use the indices to get the colors\n",
    "    palette = sns.color_palette(palette_name, 1000)\n",
    "    return np.array(palette).take(indices, axis=0)\n",
    "\n",
    "fig, axs = plt.subplots(2, 2, figsize=(20, 10))\n",
    "\n",
    "fig.suptitle('Z-scores for each cluster', fontsize=16)\n",
    "cluster_names = ['Rich Folk', 'Poor Folk', 'Irregular Spenders', 'Conservatives']\n",
    "for i, j in itertools.product(range(2), range(2)):\n",
    "    # bar plot\n",
    "    k = i*2 + j\n",
    "    sns.barplot(x=Z_scores.iloc[k, :].sort_values(ascending=False), y=Z_scores.iloc[k, :].sort_values(ascending=False).index,\n",
    "    ax=axs[i, j], palette=colors_from_values(Z_scores.iloc[k, :].sort_values(ascending=False), 'Spectral'), orient = 'h')\n",
    "    axs[i, j].set_title(cluster_names[k])\n",
    "\n",
    "plt.show()"
   ]
  },
  {
   "cell_type": "markdown",
   "metadata": {},
   "source": [
    "From the pivot table we get a general idea of clusters. However, we thought it did not unravel the complete story. So we decided to look at the clusters features in terms of their distance from to overall means. In the plot above, you can see the distance of each cluster from the overall mean. The features that have distances with high magnitude characterize their clusters. So here is our interpretation of the clusters:\n",
    "\n",
    "**Cluster 1**: This cluster is characterized by the fact that the customers have dispersed spending habits, because their kurtosis and skewness for their transaction amounts are high compared to the rest of dataset. Their minimum transactions are very low and maximum are very high, which means they use their cards for any kind of spending. As a bank we would like identify these customers of being more adapted to the digital world, and offer them more digital services.\n",
    "\n",
    "**Cluster 2**: This cluster is the poor people. They have balances lower than the average salary. This means that they are more likely default on their payments. As a bank we would be more careful with these customers, and offer them more services that would help them manage their finances better.\n",
    "\n",
    "**Cluster 3**: We can label this cluster as the \"conservatives\" or \"traditionalists\". They have low number of transactions, and relatively old. They only use their cards to pay very high amounts. This means that they do not use their cards for small purchases. As a bank we would target them as customers with more potential to spend, and try to educate them on the benefits of using their cards for small purchases.\n",
    "\n",
    "**Cluster 4**: Eat the rich. This cluster is characterized by the fact that they have very high balances, and very high transaction amounts. They are also very old and boomer. We would offer them personalized services, and try to make them feel special. For example, lounge access, and private transfers etc."
   ]
  },
  {
   "cell_type": "markdown",
   "metadata": {},
   "source": [
    "### Bonus"
   ]
  },
  {
   "cell_type": "code",
   "execution_count": null,
   "metadata": {},
   "outputs": [],
   "source": [
    "from sklearn.cluster import DBSCAN, AgglomerativeClustering\n",
    "\n",
    "dbscan = DBSCAN(eps=0.3, min_samples=10).fit(XPC[:, :2])\n",
    "\n",
    "plt.figure(figsize=(10, 10))\n",
    "\n",
    "plt.scatter(XPC[:, 0], XPC[:, 1], c=dbscan.labels_, cmap='tab10', alpha=0.5)\n",
    "plt.title('DBSCAN clustering')\n",
    "\n",
    "plt.xlabel('PC1'); plt.ylabel('PC2')\n",
    "plt.xlim(-5,20); plt.ylim(-20,20)\n",
    "plt.show()"
   ]
  },
  {
   "cell_type": "markdown",
   "metadata": {},
   "source": [
    "Our data is very dense, in the center and sparse in the edges. This is because, economically, the majority of the population is in the low-middle class, and the upper class is very small. As a result, DBSCAN groups all low and middle class customers together, and leaves the upper class customers alone. The distance between the middle and lower class is very small compared to the distance between the upper class and the middle class. Therefore density is not a good measure and **DBSCAN** is not a good clustering method for our data."
   ]
  },
  {
   "cell_type": "code",
   "execution_count": null,
   "metadata": {},
   "outputs": [],
   "source": [
    "hierarchical = AgglomerativeClustering(\n",
    "    n_clusters=None, \n",
    "    linkage='ward',\n",
    "    distance_threshold = 7\n",
    ").fit(XPC)"
   ]
  },
  {
   "cell_type": "code",
   "execution_count": null,
   "metadata": {},
   "outputs": [],
   "source": [
    "# import dendrogram\n",
    "from scipy.cluster.hierarchy import dendrogram\n",
    "\n",
    "def plot_dendrogram(model, **kwargs):\n",
    "    counts = np.zeros(model.children_.shape[0])\n",
    "    n_samples = len(model.labels_)\n",
    "    for i, merge in enumerate(model.children_):\n",
    "        current_count = 0\n",
    "        for child_idx in merge:\n",
    "            if child_idx < n_samples:\n",
    "                current_count +=1\n",
    "            else:\n",
    "                current_count += counts[child_idx-n_samples]\n",
    "        counts[i] = current_count\n",
    "\n",
    "    linkage_matrix = np.column_stack([model.children_, model.distances_,\n",
    "                                     counts]).astype(float)\n",
    "    \n",
    "    dendrogram(linkage_matrix, **kwargs)\n",
    "\n",
    "fig, ax = plt.subplots(figsize = (20,10))\n",
    "ax.set_title(\"Hierarchical clustering dendrogram\")\n",
    "#plot the top three levels of the dendrogram\n",
    "plot_dendrogram(hierarchical, truncate_mode='level', p=7)\n",
    "ax.set_xlabel(\"Number of points in node\")\n",
    "plt.show()\n",
    "\n",
    "# This code is inspired from Philip Wilkinson's post on Towards Data Science"
   ]
  },
  {
   "cell_type": "code",
   "execution_count": null,
   "metadata": {},
   "outputs": [],
   "source": [
    "# hierarchical clustering with 4 clusters\n",
    "hierarchical4 = AgglomerativeClustering(\n",
    "    n_clusters=4,\n",
    "    linkage='ward',\n",
    "    distance_threshold = None\n",
    ").fit(XPC)\n",
    "\n",
    "# get the cluster labels\n",
    "hierarchical4.labels_"
   ]
  },
  {
   "cell_type": "code",
   "execution_count": null,
   "metadata": {},
   "outputs": [],
   "source": [
    "customersX['hierarchical4'] = hierarchical4.labels_\n",
    "customers_h4 = customersX.groupby('hierarchical4').agg({col: 'mean' for col in variables_to_inspect})\n",
    "Z_h4 = (customers_h4 - customersX[variables_to_inspect].mean()) / customersX[variables_to_inspect].std()\n",
    "\n",
    "for i in range(4):\n",
    "    print(f'Top explanatory features for Cluster {i+1}')\n",
    "    t = Z_h4.loc[i, Z_h4.iloc[i, :].abs().sort_values(ascending=False)[:5].index].sort_values(ascending=False)\n",
    "    for j in range(len(t)):\n",
    "        print(f'{j+1}. {t.index[j]}: \\t \\t {t.iloc[j].round(2)}')\n",
    "    "
   ]
  },
  {
   "cell_type": "markdown",
   "metadata": {},
   "source": [
    "For hierarchical clustering, we have decided to inspect 4 clusters. One immediate observation is that the some clusters are way more marginal compared to the results we got in K-means. As you can see, cluster 1 and 4 has features that are very distant from the mean, which is a sign of being even more charactestic. For example, cluster 4 are people with very high balance and age. In our previous results we have also identified a segment of rich customers, however, the results we get from hierarchical clustering are more extreme. We can further our analysis looking into more clusters, that is, dividing up the current clusters into more clusters. And doing so we can better understand the segments of customers. We think this is a good method to use for a bank to understand their customers, where computational power is not a concern."
   ]
  },
  {
   "cell_type": "code",
   "execution_count": null,
   "metadata": {},
   "outputs": [],
   "source": [
    "# import kmeans from sklearn\n",
    "from sklearn.cluster import KMeans\n",
    "\n",
    "\n",
    "n_clusters = 3\n",
    "kmeans_sk = KMeans(n_clusters=n_clusters)\n",
    "rows = 5\n",
    "fig, axs = plt.subplots(rows, 2, figsize=(20, 25))\n",
    "\n",
    "for i in range(rows):\n",
    "    kmeans_sk.fit(XPC[:, :2])\n",
    "    axs[i, 0].scatter(XPC[:, 0], XPC[:, 1], c=kmeans_sk.labels_, cmap='tab10', alpha=0.5)\n",
    "    axs[i, 0].set_title(f'K-means clustering (sklearn) {i+1}')\n",
    "    axs[i, 0].set_xlabel('PC1'); axs[i, 0].set_ylabel('PC2')\n",
    "    axs[i, 0].set_xlim(-5,20); axs[i, 0].set_ylim(-20,20)\n",
    "\n",
    "    clusters, centroids, _ = kmeans(XPC[:, :2], k=n_clusters, max_iter=100, verbose=False)\n",
    "    axs[i, 1].scatter(XPC[:, 0], XPC[:, 1], c=clusters, cmap='tab10', alpha=0.5)\n",
    "    axs[i, 1].set_title(f'K-means clustering (our code) {i+1}')\n",
    "    axs[i, 1].set_xlabel('PC1'); axs[i, 1].set_ylabel('PC2')\n",
    "    axs[i, 1].set_xlim(-5,20); axs[i, 1].set_ylim(-20,20)\n",
    "\n",
    "plt.show()\n",
    "\n"
   ]
  },
  {
   "cell_type": "markdown",
   "metadata": {},
   "source": [
    "In our code we initialize randomly and the module we have imported from sklearn initialize with KMeans++. In the plot above, you can observe that the module we have imported from sklearn always has only 2 large clusters, and the third is not even visible. On the other hand, in some of the results that we get from our code has 3 balanced clusters. This is due to the nature of clustering processes. Clustering, in the end, has qualitative implications, and sometimes quantitative metrics do not give a good picture of the results. Surprisingly, our code does a better job in having more balanced clusters, if that is what you are looking for."
   ]
  },
  {
   "cell_type": "markdown",
   "metadata": {},
   "source": [
    "#### Summary of clustering comparison\n",
    "\n",
    "All in all, we have learned that not every clustering algorithm fits every dataset. In our case, DBSCAN is not a good choice because of the distribution of our data, compared to K-means and hierarchical clustering. Moreover, the motivation behind the clustering is also a factor that should be considered. For example, if you want to have a balanced number of clusters, in our case, K-means with random initiliziation produced better results. Finally, we think that if our goal is to do qualitative analysis, then we should use hierarchical clustering, since it provides sub-clusters, and we can further our analysis by looking into the sub-clusters."
   ]
  },
  {
   "cell_type": "markdown",
   "metadata": {},
   "source": [
    "### Command Line Question"
   ]
  },
  {
   "cell_type": "code",
   "execution_count": null,
   "metadata": {},
   "outputs": [],
   "source": [
    "%%bash\n",
    "\n",
    "echo '1-The location that has the maximum number of purchases been made:'\n",
    "\n",
    "awk -F, '{print($5)}' data/bank_transactions.csv | sort | uniq -c | sort -nr | head -1\n",
    "\n",
    "echo '2-The most spending purchases are: '\n",
    "\n",
    "awk -F, '{$4+=$9}END{ if(list[\"F\"] > list[\"M\"]){ print(\"F\");} else{ print(\"M\");}}' data/bank_transactions.csv\n",
    "\n",
    "echo '3-The customer with the highest average transaction amount: '\n",
    "\n",
    "awk -F, 'BEGIN{FS=\",\"} {if(NR>1){arr[$2]= arr[$2]+$9; count[$2]++}} END{for(c in arr){arr[c]= arr[c]/count[c]} asort(arr, sortedarr);for(l in arr){if(arr[l]==sortedarr[length(sortedarr)])print arr[l], l}}' bank_transactions.csv"
   ]
  },
  {
   "cell_type": "markdown",
   "metadata": {},
   "source": [
    "### Algorithmic Question"
   ]
  },
  {
   "cell_type": "code",
   "execution_count": null,
   "metadata": {},
   "outputs": [],
   "source": [
    "def check_enough_guards(N: int, M: int, G: int, arriving: list):\n",
    "    \"\"\"\n",
    "    Check if there are enough guards to protect the gates\n",
    "    \"\"\"\n",
    "    enough  = True # do we have enough guards?\n",
    "    history = {}   # history of first and last time a student visited a gate\n",
    "\n",
    "    for i, student in enumerate(arriving):\n",
    "\n",
    "        if student not in history.keys():\n",
    "            history[student] = [i, -1] # first time, last time\n",
    "        else:\n",
    "            history[student][1] = i    # update last time\n",
    "        \n",
    "\n",
    "    for i in range(N):\n",
    "        intersections = 0\n",
    "\n",
    "        for gate in history.keys():\n",
    "            if history[gate][0] <= i <= history[gate][1]:\n",
    "                intersections += 1\n",
    "        \n",
    "        if intersections > G:\n",
    "            enough = False\n",
    "            break\n",
    "\n",
    "    print('YES') if enough else print('NO')\n",
    "    # print(history, interactions)\n",
    "\n",
    "## Case 1\n",
    "arriving = [1, 1, 3, 3, 3]\n",
    "#arriving = [3, 3, 1, 1, 3, 3, 2, 2, 3, 3, 2, 2,]\n",
    "\n",
    "N, M, G = 4, len(arriving), 1\n",
    "\n",
    "print(f'N = {N}, M = {M}, G = {G}, arriving = {arriving}')\n",
    "check_enough_guards(N, M, G, arriving)\n",
    "\n",
    "\n",
    "# Case 2\n",
    "arriving = [1, 2, 1, 2, 2]\n",
    "N, M, G = 2, len(arriving), 1\n",
    "\n",
    "print(f'N = {N}, M = {M}, G = {G}, arriving = {arriving}')\n",
    "check_enough_guards(N, M, G, arriving)"
   ]
  }
 ],
 "metadata": {
  "kernelspec": {
   "display_name": "Python 3.9.12 ('base')",
   "language": "python",
   "name": "python3"
  },
  "language_info": {
   "codemirror_mode": {
    "name": "ipython",
    "version": 3
   },
   "file_extension": ".py",
   "mimetype": "text/x-python",
   "name": "python",
   "nbconvert_exporter": "python",
   "pygments_lexer": "ipython3",
   "version": "3.9.12"
  },
  "orig_nbformat": 4,
  "vscode": {
   "interpreter": {
    "hash": "a2875e863656f51b086e8e28d9d22dbee1e08a4c40db222f2cb26ce4a6f7eef6"
   }
  }
 },
 "nbformat": 4,
 "nbformat_minor": 2
}
