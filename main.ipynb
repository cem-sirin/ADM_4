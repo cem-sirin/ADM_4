{
 "cells": [
  {
   "cell_type": "markdown",
   "metadata": {},
   "source": [
    "# **Algorithmic Methods of Data Mining - Fall 2022**\n",
    "\n",
    "## **Homework 4: Getting to know your customers**\n",
    "\n",
    "**Packages that are used troughout the notebook:**"
   ]
  },
  {
   "cell_type": "code",
   "execution_count": 3,
   "metadata": {},
   "outputs": [],
   "source": [
    "import pandas as pd\n",
    "from datetime import datetime\n",
    "from tqdm import tqdm\n",
    "import numpy as np\n",
    "import datasets\n",
    "\n",
    "# For progress_apply\n",
    "tqdm.pandas()\n",
    "\n",
    "datas = datasets.Datasets()"
   ]
  },
  {
   "cell_type": "markdown",
   "metadata": {},
   "source": [
    "## 1. Finding Similar Costumers"
   ]
  },
  {
   "cell_type": "markdown",
   "metadata": {},
   "source": [
    "### 1.1 Set up the data"
   ]
  },
  {
   "cell_type": "code",
   "execution_count": 4,
   "metadata": {},
   "outputs": [
    {
     "data": {
      "text/html": [
       "<div>\n",
       "<style scoped>\n",
       "    .dataframe tbody tr th:only-of-type {\n",
       "        vertical-align: middle;\n",
       "    }\n",
       "\n",
       "    .dataframe tbody tr th {\n",
       "        vertical-align: top;\n",
       "    }\n",
       "\n",
       "    .dataframe thead th {\n",
       "        text-align: right;\n",
       "    }\n",
       "</style>\n",
       "<table border=\"1\" class=\"dataframe\">\n",
       "  <thead>\n",
       "    <tr style=\"text-align: right;\">\n",
       "      <th></th>\n",
       "      <th>tid</th>\n",
       "      <th>cid</th>\n",
       "      <th>cdob</th>\n",
       "      <th>cgender</th>\n",
       "      <th>clocation</th>\n",
       "      <th>cbalance</th>\n",
       "      <th>tdate</th>\n",
       "      <th>tamount</th>\n",
       "    </tr>\n",
       "  </thead>\n",
       "  <tbody>\n",
       "    <tr>\n",
       "      <th>0</th>\n",
       "      <td>T1</td>\n",
       "      <td>0</td>\n",
       "      <td>1994-01-10</td>\n",
       "      <td>F</td>\n",
       "      <td>JAMSHEDPUR</td>\n",
       "      <td>17819.05</td>\n",
       "      <td>2016-08-02 14:32:07</td>\n",
       "      <td>25.0</td>\n",
       "    </tr>\n",
       "    <tr>\n",
       "      <th>1</th>\n",
       "      <td>T2</td>\n",
       "      <td>1</td>\n",
       "      <td>2057-04-04</td>\n",
       "      <td>M</td>\n",
       "      <td>JHAJJAR</td>\n",
       "      <td>2270.69</td>\n",
       "      <td>2016-08-02 14:18:58</td>\n",
       "      <td>27999.0</td>\n",
       "    </tr>\n",
       "    <tr>\n",
       "      <th>2</th>\n",
       "      <td>T3</td>\n",
       "      <td>2</td>\n",
       "      <td>1996-11-26</td>\n",
       "      <td>F</td>\n",
       "      <td>MUMBAI</td>\n",
       "      <td>17874.44</td>\n",
       "      <td>2016-08-02 14:27:12</td>\n",
       "      <td>459.0</td>\n",
       "    </tr>\n",
       "    <tr>\n",
       "      <th>3</th>\n",
       "      <td>T4</td>\n",
       "      <td>3</td>\n",
       "      <td>1973-09-14</td>\n",
       "      <td>F</td>\n",
       "      <td>MUMBAI</td>\n",
       "      <td>866503.21</td>\n",
       "      <td>2016-08-02 14:27:14</td>\n",
       "      <td>2060.0</td>\n",
       "    </tr>\n",
       "    <tr>\n",
       "      <th>4</th>\n",
       "      <td>T5</td>\n",
       "      <td>4</td>\n",
       "      <td>1988-03-24</td>\n",
       "      <td>F</td>\n",
       "      <td>NAVI MUMBAI</td>\n",
       "      <td>6714.43</td>\n",
       "      <td>2016-08-02 18:11:56</td>\n",
       "      <td>1762.5</td>\n",
       "    </tr>\n",
       "  </tbody>\n",
       "</table>\n",
       "</div>"
      ],
      "text/plain": [
       "  tid  cid       cdob cgender    clocation   cbalance               tdate  \\\n",
       "0  T1    0 1994-01-10       F   JAMSHEDPUR   17819.05 2016-08-02 14:32:07   \n",
       "1  T2    1 2057-04-04       M      JHAJJAR    2270.69 2016-08-02 14:18:58   \n",
       "2  T3    2 1996-11-26       F       MUMBAI   17874.44 2016-08-02 14:27:12   \n",
       "3  T4    3 1973-09-14       F       MUMBAI  866503.21 2016-08-02 14:27:14   \n",
       "4  T5    4 1988-03-24       F  NAVI MUMBAI    6714.43 2016-08-02 18:11:56   \n",
       "\n",
       "   tamount  \n",
       "0     25.0  \n",
       "1  27999.0  \n",
       "2    459.0  \n",
       "3   2060.0  \n",
       "4   1762.5  "
      ]
     },
     "execution_count": 4,
     "metadata": {},
     "output_type": "execute_result"
    }
   ],
   "source": [
    "transactions = datas.getTransactions().copy()\n",
    "transactions.head()"
   ]
  },
  {
   "cell_type": "code",
   "execution_count": 5,
   "metadata": {},
   "outputs": [
    {
     "data": {
      "text/html": [
       "<div>\n",
       "<style scoped>\n",
       "    .dataframe tbody tr th:only-of-type {\n",
       "        vertical-align: middle;\n",
       "    }\n",
       "\n",
       "    .dataframe tbody tr th {\n",
       "        vertical-align: top;\n",
       "    }\n",
       "\n",
       "    .dataframe thead th {\n",
       "        text-align: right;\n",
       "    }\n",
       "</style>\n",
       "<table border=\"1\" class=\"dataframe\">\n",
       "  <thead>\n",
       "    <tr style=\"text-align: right;\">\n",
       "      <th></th>\n",
       "      <th>dob</th>\n",
       "      <th>gender</th>\n",
       "      <th>location</th>\n",
       "      <th>balance</th>\n",
       "    </tr>\n",
       "    <tr>\n",
       "      <th>cid</th>\n",
       "      <th></th>\n",
       "      <th></th>\n",
       "      <th></th>\n",
       "      <th></th>\n",
       "    </tr>\n",
       "  </thead>\n",
       "  <tbody>\n",
       "    <tr>\n",
       "      <th>0</th>\n",
       "      <td>1994-01-10</td>\n",
       "      <td>F</td>\n",
       "      <td>JAMSHEDPUR</td>\n",
       "      <td>17819.05</td>\n",
       "    </tr>\n",
       "    <tr>\n",
       "      <th>1</th>\n",
       "      <td>1957-04-04</td>\n",
       "      <td>M</td>\n",
       "      <td>JHAJJAR</td>\n",
       "      <td>2270.69</td>\n",
       "    </tr>\n",
       "    <tr>\n",
       "      <th>2</th>\n",
       "      <td>1996-11-26</td>\n",
       "      <td>F</td>\n",
       "      <td>MUMBAI</td>\n",
       "      <td>17874.44</td>\n",
       "    </tr>\n",
       "    <tr>\n",
       "      <th>3</th>\n",
       "      <td>1973-09-14</td>\n",
       "      <td>F</td>\n",
       "      <td>MUMBAI</td>\n",
       "      <td>866503.21</td>\n",
       "    </tr>\n",
       "    <tr>\n",
       "      <th>4</th>\n",
       "      <td>1988-03-24</td>\n",
       "      <td>F</td>\n",
       "      <td>NAVI MUMBAI</td>\n",
       "      <td>6714.43</td>\n",
       "    </tr>\n",
       "  </tbody>\n",
       "</table>\n",
       "</div>"
      ],
      "text/plain": [
       "           dob gender     location    balance\n",
       "cid                                          \n",
       "0   1994-01-10      F   JAMSHEDPUR   17819.05\n",
       "1   1957-04-04      M      JHAJJAR    2270.69\n",
       "2   1996-11-26      F       MUMBAI   17874.44\n",
       "3   1973-09-14      F       MUMBAI  866503.21\n",
       "4   1988-03-24      F  NAVI MUMBAI    6714.43"
      ]
     },
     "execution_count": 5,
     "metadata": {},
     "output_type": "execute_result"
    }
   ],
   "source": [
    "customers = datas.getCustomers().copy()\n",
    "customers.head()"
   ]
  },
  {
   "cell_type": "markdown",
   "metadata": {},
   "source": [
    "We will create shingles for each customer by using their age, average transaction amount, and balance. To do this, we are going to divide these variables into 10 quantiles, and assign a quantile to each customer. For example, if a customer is in the 1st quantile for age, and in the 3rd quantile for average transaction amount, and in the 5th quantile for balance, then the shingle for that customer will be [age_1, avg_tamount_3, balance_5]."
   ]
  },
  {
   "cell_type": "code",
   "execution_count": 6,
   "metadata": {},
   "outputs": [],
   "source": [
    "customers['age'] = ((transactions['tdate'].max() - customers['dob']).dt.days // 365).astype(int)\n",
    "customers['ave_tamount'] = transactions.groupby('cid')['tamount'].mean()"
   ]
  },
  {
   "cell_type": "code",
   "execution_count": 7,
   "metadata": {},
   "outputs": [],
   "source": [
    "quantiles = 10\n",
    "customers['age_group'] = pd.qcut(customers['age'], quantiles, labels=False)\n",
    "customers['balance_group'] = pd.qcut(customers['balance'], quantiles, labels=False)\n",
    "customers['tamount_group'] = pd.qcut(customers['ave_tamount'], quantiles, labels=False)"
   ]
  },
  {
   "cell_type": "markdown",
   "metadata": {},
   "source": [
    "We will also store these quantiles in a dictionary, so that we can easily find the quantile of a variable for a given customer."
   ]
  },
  {
   "cell_type": "code",
   "execution_count": 8,
   "metadata": {},
   "outputs": [],
   "source": [
    "age_groups = pd.qcut(customers['age'], quantiles).unique().sort_values()\n",
    "balance_groups = pd.qcut(customers['balance'], quantiles).unique().sort_values()\n",
    "tamount_groups = pd.qcut(customers['ave_tamount'], quantiles).unique().sort_values()"
   ]
  },
  {
   "cell_type": "code",
   "execution_count": 9,
   "metadata": {},
   "outputs": [
    {
     "data": {
      "text/plain": [
       "4"
      ]
     },
     "execution_count": 9,
     "metadata": {},
     "output_type": "execute_result"
    }
   ],
   "source": [
    "def getGroup(group, value):\n",
    "    return np.where([value in g for g in group])[0][0] if len(np.where([value in g for g in group])[0]) > 0 else None\n",
    "\n",
    "getGroup(age_groups, 29)"
   ]
  },
  {
   "cell_type": "markdown",
   "metadata": {},
   "source": [
    "Now we are going to create our shingle matrix."
   ]
  },
  {
   "cell_type": "code",
   "execution_count": 10,
   "metadata": {},
   "outputs": [
    {
     "data": {
      "text/html": [
       "<div>\n",
       "<style scoped>\n",
       "    .dataframe tbody tr th:only-of-type {\n",
       "        vertical-align: middle;\n",
       "    }\n",
       "\n",
       "    .dataframe tbody tr th {\n",
       "        vertical-align: top;\n",
       "    }\n",
       "\n",
       "    .dataframe thead th {\n",
       "        text-align: right;\n",
       "    }\n",
       "</style>\n",
       "<table border=\"1\" class=\"dataframe\">\n",
       "  <thead>\n",
       "    <tr style=\"text-align: right;\">\n",
       "      <th>cid</th>\n",
       "      <th>0</th>\n",
       "      <th>1</th>\n",
       "      <th>2</th>\n",
       "      <th>3</th>\n",
       "      <th>4</th>\n",
       "      <th>5</th>\n",
       "      <th>6</th>\n",
       "      <th>7</th>\n",
       "      <th>8</th>\n",
       "      <th>9</th>\n",
       "      <th>...</th>\n",
       "      <th>162301</th>\n",
       "      <th>162302</th>\n",
       "      <th>162303</th>\n",
       "      <th>162304</th>\n",
       "      <th>162305</th>\n",
       "      <th>162306</th>\n",
       "      <th>162307</th>\n",
       "      <th>162308</th>\n",
       "      <th>162309</th>\n",
       "      <th>162310</th>\n",
       "    </tr>\n",
       "  </thead>\n",
       "  <tbody>\n",
       "    <tr>\n",
       "      <th>age_0</th>\n",
       "      <td>1</td>\n",
       "      <td>0</td>\n",
       "      <td>1</td>\n",
       "      <td>0</td>\n",
       "      <td>0</td>\n",
       "      <td>0</td>\n",
       "      <td>0</td>\n",
       "      <td>0</td>\n",
       "      <td>0</td>\n",
       "      <td>0</td>\n",
       "      <td>...</td>\n",
       "      <td>0</td>\n",
       "      <td>1</td>\n",
       "      <td>0</td>\n",
       "      <td>0</td>\n",
       "      <td>0</td>\n",
       "      <td>0</td>\n",
       "      <td>0</td>\n",
       "      <td>1</td>\n",
       "      <td>0</td>\n",
       "      <td>0</td>\n",
       "    </tr>\n",
       "    <tr>\n",
       "      <th>age_1</th>\n",
       "      <td>0</td>\n",
       "      <td>0</td>\n",
       "      <td>0</td>\n",
       "      <td>0</td>\n",
       "      <td>0</td>\n",
       "      <td>0</td>\n",
       "      <td>1</td>\n",
       "      <td>0</td>\n",
       "      <td>0</td>\n",
       "      <td>0</td>\n",
       "      <td>...</td>\n",
       "      <td>1</td>\n",
       "      <td>0</td>\n",
       "      <td>0</td>\n",
       "      <td>0</td>\n",
       "      <td>0</td>\n",
       "      <td>1</td>\n",
       "      <td>0</td>\n",
       "      <td>0</td>\n",
       "      <td>0</td>\n",
       "      <td>0</td>\n",
       "    </tr>\n",
       "    <tr>\n",
       "      <th>age_2</th>\n",
       "      <td>0</td>\n",
       "      <td>0</td>\n",
       "      <td>0</td>\n",
       "      <td>0</td>\n",
       "      <td>0</td>\n",
       "      <td>0</td>\n",
       "      <td>0</td>\n",
       "      <td>0</td>\n",
       "      <td>0</td>\n",
       "      <td>0</td>\n",
       "      <td>...</td>\n",
       "      <td>0</td>\n",
       "      <td>0</td>\n",
       "      <td>0</td>\n",
       "      <td>0</td>\n",
       "      <td>1</td>\n",
       "      <td>0</td>\n",
       "      <td>0</td>\n",
       "      <td>0</td>\n",
       "      <td>0</td>\n",
       "      <td>0</td>\n",
       "    </tr>\n",
       "    <tr>\n",
       "      <th>age_3</th>\n",
       "      <td>0</td>\n",
       "      <td>0</td>\n",
       "      <td>0</td>\n",
       "      <td>0</td>\n",
       "      <td>1</td>\n",
       "      <td>0</td>\n",
       "      <td>0</td>\n",
       "      <td>0</td>\n",
       "      <td>1</td>\n",
       "      <td>0</td>\n",
       "      <td>...</td>\n",
       "      <td>0</td>\n",
       "      <td>0</td>\n",
       "      <td>1</td>\n",
       "      <td>0</td>\n",
       "      <td>0</td>\n",
       "      <td>0</td>\n",
       "      <td>0</td>\n",
       "      <td>0</td>\n",
       "      <td>1</td>\n",
       "      <td>0</td>\n",
       "    </tr>\n",
       "    <tr>\n",
       "      <th>age_4</th>\n",
       "      <td>0</td>\n",
       "      <td>0</td>\n",
       "      <td>0</td>\n",
       "      <td>0</td>\n",
       "      <td>0</td>\n",
       "      <td>0</td>\n",
       "      <td>0</td>\n",
       "      <td>0</td>\n",
       "      <td>0</td>\n",
       "      <td>0</td>\n",
       "      <td>...</td>\n",
       "      <td>0</td>\n",
       "      <td>0</td>\n",
       "      <td>0</td>\n",
       "      <td>0</td>\n",
       "      <td>0</td>\n",
       "      <td>0</td>\n",
       "      <td>0</td>\n",
       "      <td>0</td>\n",
       "      <td>0</td>\n",
       "      <td>0</td>\n",
       "    </tr>\n",
       "  </tbody>\n",
       "</table>\n",
       "<p>5 rows × 162311 columns</p>\n",
       "</div>"
      ],
      "text/plain": [
       "cid    0       1       2       3       4       5       6       7       8       \\\n",
       "age_0       1       0       1       0       0       0       0       0       0   \n",
       "age_1       0       0       0       0       0       0       1       0       0   \n",
       "age_2       0       0       0       0       0       0       0       0       0   \n",
       "age_3       0       0       0       0       1       0       0       0       1   \n",
       "age_4       0       0       0       0       0       0       0       0       0   \n",
       "\n",
       "cid    9       ...  162301  162302  162303  162304  162305  162306  162307  \\\n",
       "age_0       0  ...       0       1       0       0       0       0       0   \n",
       "age_1       0  ...       1       0       0       0       0       1       0   \n",
       "age_2       0  ...       0       0       0       0       1       0       0   \n",
       "age_3       0  ...       0       0       1       0       0       0       0   \n",
       "age_4       0  ...       0       0       0       0       0       0       0   \n",
       "\n",
       "cid    162308  162309  162310  \n",
       "age_0       1       0       0  \n",
       "age_1       0       0       0  \n",
       "age_2       0       0       0  \n",
       "age_3       0       1       0  \n",
       "age_4       0       0       0  \n",
       "\n",
       "[5 rows x 162311 columns]"
      ]
     },
     "execution_count": 10,
     "metadata": {},
     "output_type": "execute_result"
    }
   ],
   "source": [
    "# make dummy variables for categorical variables\n",
    "shingles = pd.DataFrame(index=customers.index)\n",
    "shingles = pd.concat([shingles, pd.get_dummies(customers['age_group'], prefix='age')], axis=1)\n",
    "shingles = pd.concat([shingles, pd.get_dummies(customers['balance_group'], prefix='balance')], axis=1)\n",
    "shingles = pd.concat([shingles, pd.get_dummies(customers['tamount_group'], prefix='tamount')], axis=1)\n",
    "# transpose to get the shingles\n",
    "shingles = shingles.T\n",
    "shingles.head()"
   ]
  },
  {
   "cell_type": "markdown",
   "metadata": {},
   "source": [
    "#### 1.2 Fingerprint hashing"
   ]
  },
  {
   "cell_type": "code",
   "execution_count": 11,
   "metadata": {},
   "outputs": [],
   "source": [
    "# import sparse matrix for shingles\n",
    "from scipy import sparse\n",
    "\n",
    "def get_signatures(shingles, signature_length: int) -> np.ndarray:\n",
    "    # set seed for reproducibility\n",
    "    np.random.seed(123)\n",
    "    signatures = np.full((signature_length, shingles.shape[1]), np.nan, dtype=np.int32)\n",
    "    for i in range(signature_length):\n",
    "\n",
    "        idx = np.random.choice(shingles.index, shingles.shape[0], replace=False)\n",
    "        sparse_shingles = sparse.csc_matrix(shingles.loc[idx].values)\n",
    "        rowidx = sparse_shingles.nonzero()[0]\n",
    "        colidx = sparse_shingles.nonzero()[1]\n",
    "        signatures[i,:] = rowidx[np.unique(colidx, return_index=True)[1]]\n",
    "    return signatures"
   ]
  },
  {
   "cell_type": "code",
   "execution_count": 12,
   "metadata": {},
   "outputs": [
    {
     "data": {
      "text/plain": [
       "(20, 162311)"
      ]
     },
     "execution_count": 12,
     "metadata": {},
     "output_type": "execute_result"
    }
   ],
   "source": [
    "signatures = get_signatures(shingles, signature_length=20)\n",
    "signatures.shape"
   ]
  },
  {
   "cell_type": "code",
   "execution_count": 13,
   "metadata": {},
   "outputs": [],
   "source": [
    "def create_buckets(signatures, band_size):\n",
    "    buckets = {}\n",
    "    rows = signatures.shape[0] // band_size\n",
    "    for i in range(rows):\n",
    "        for j in range(signatures.shape[1]):\n",
    "            bucket = (i, *signatures[i*band_size:(i+1)*band_size, j])\n",
    "            if bucket not in buckets:\n",
    "                buckets[bucket] = []\n",
    "            buckets[bucket].append(j)\n",
    "    return buckets"
   ]
  },
  {
   "cell_type": "code",
   "execution_count": 14,
   "metadata": {},
   "outputs": [],
   "source": [
    "# check if equal\n",
    "band_size = 2\n",
    "buckets = create_buckets(signatures, band_size=2)"
   ]
  },
  {
   "cell_type": "markdown",
   "metadata": {},
   "source": [
    "#### 1.3 Locality Sensitive Hashing"
   ]
  },
  {
   "cell_type": "markdown",
   "metadata": {},
   "source": [
    "Now, we first parse query so that it is in the same format as the shingles."
   ]
  },
  {
   "cell_type": "code",
   "execution_count": 15,
   "metadata": {},
   "outputs": [
    {
     "data": {
      "text/html": [
       "<div>\n",
       "<style scoped>\n",
       "    .dataframe tbody tr th:only-of-type {\n",
       "        vertical-align: middle;\n",
       "    }\n",
       "\n",
       "    .dataframe tbody tr th {\n",
       "        vertical-align: top;\n",
       "    }\n",
       "\n",
       "    .dataframe thead th {\n",
       "        text-align: right;\n",
       "    }\n",
       "</style>\n",
       "<table border=\"1\" class=\"dataframe\">\n",
       "  <thead>\n",
       "    <tr style=\"text-align: right;\">\n",
       "      <th></th>\n",
       "      <th>0</th>\n",
       "      <th>1</th>\n",
       "      <th>2</th>\n",
       "      <th>3</th>\n",
       "      <th>4</th>\n",
       "      <th>5</th>\n",
       "      <th>6</th>\n",
       "      <th>7</th>\n",
       "      <th>8</th>\n",
       "      <th>9</th>\n",
       "      <th>...</th>\n",
       "      <th>36</th>\n",
       "      <th>37</th>\n",
       "      <th>38</th>\n",
       "      <th>39</th>\n",
       "      <th>40</th>\n",
       "      <th>41</th>\n",
       "      <th>42</th>\n",
       "      <th>43</th>\n",
       "      <th>44</th>\n",
       "      <th>45</th>\n",
       "    </tr>\n",
       "  </thead>\n",
       "  <tbody>\n",
       "    <tr>\n",
       "      <th>age_0</th>\n",
       "      <td>0</td>\n",
       "      <td>1</td>\n",
       "      <td>0</td>\n",
       "      <td>0</td>\n",
       "      <td>1</td>\n",
       "      <td>0</td>\n",
       "      <td>0</td>\n",
       "      <td>0</td>\n",
       "      <td>0</td>\n",
       "      <td>0</td>\n",
       "      <td>...</td>\n",
       "      <td>0</td>\n",
       "      <td>0</td>\n",
       "      <td>0</td>\n",
       "      <td>0</td>\n",
       "      <td>0</td>\n",
       "      <td>0</td>\n",
       "      <td>0</td>\n",
       "      <td>0</td>\n",
       "      <td>1</td>\n",
       "      <td>0</td>\n",
       "    </tr>\n",
       "    <tr>\n",
       "      <th>age_1</th>\n",
       "      <td>0</td>\n",
       "      <td>0</td>\n",
       "      <td>1</td>\n",
       "      <td>0</td>\n",
       "      <td>0</td>\n",
       "      <td>0</td>\n",
       "      <td>0</td>\n",
       "      <td>1</td>\n",
       "      <td>0</td>\n",
       "      <td>0</td>\n",
       "      <td>...</td>\n",
       "      <td>0</td>\n",
       "      <td>0</td>\n",
       "      <td>0</td>\n",
       "      <td>1</td>\n",
       "      <td>0</td>\n",
       "      <td>0</td>\n",
       "      <td>0</td>\n",
       "      <td>1</td>\n",
       "      <td>0</td>\n",
       "      <td>0</td>\n",
       "    </tr>\n",
       "    <tr>\n",
       "      <th>age_2</th>\n",
       "      <td>0</td>\n",
       "      <td>0</td>\n",
       "      <td>0</td>\n",
       "      <td>0</td>\n",
       "      <td>0</td>\n",
       "      <td>0</td>\n",
       "      <td>0</td>\n",
       "      <td>0</td>\n",
       "      <td>1</td>\n",
       "      <td>0</td>\n",
       "      <td>...</td>\n",
       "      <td>0</td>\n",
       "      <td>0</td>\n",
       "      <td>0</td>\n",
       "      <td>0</td>\n",
       "      <td>0</td>\n",
       "      <td>1</td>\n",
       "      <td>0</td>\n",
       "      <td>0</td>\n",
       "      <td>0</td>\n",
       "      <td>0</td>\n",
       "    </tr>\n",
       "    <tr>\n",
       "      <th>age_3</th>\n",
       "      <td>0</td>\n",
       "      <td>0</td>\n",
       "      <td>0</td>\n",
       "      <td>0</td>\n",
       "      <td>0</td>\n",
       "      <td>0</td>\n",
       "      <td>0</td>\n",
       "      <td>0</td>\n",
       "      <td>0</td>\n",
       "      <td>0</td>\n",
       "      <td>...</td>\n",
       "      <td>0</td>\n",
       "      <td>0</td>\n",
       "      <td>0</td>\n",
       "      <td>0</td>\n",
       "      <td>0</td>\n",
       "      <td>0</td>\n",
       "      <td>0</td>\n",
       "      <td>0</td>\n",
       "      <td>0</td>\n",
       "      <td>0</td>\n",
       "    </tr>\n",
       "    <tr>\n",
       "      <th>age_4</th>\n",
       "      <td>0</td>\n",
       "      <td>0</td>\n",
       "      <td>0</td>\n",
       "      <td>1</td>\n",
       "      <td>0</td>\n",
       "      <td>0</td>\n",
       "      <td>0</td>\n",
       "      <td>0</td>\n",
       "      <td>0</td>\n",
       "      <td>0</td>\n",
       "      <td>...</td>\n",
       "      <td>1</td>\n",
       "      <td>0</td>\n",
       "      <td>0</td>\n",
       "      <td>0</td>\n",
       "      <td>0</td>\n",
       "      <td>0</td>\n",
       "      <td>0</td>\n",
       "      <td>0</td>\n",
       "      <td>0</td>\n",
       "      <td>1</td>\n",
       "    </tr>\n",
       "  </tbody>\n",
       "</table>\n",
       "<p>5 rows × 46 columns</p>\n",
       "</div>"
      ],
      "text/plain": [
       "       0   1   2   3   4   5   6   7   8   9   ...  36  37  38  39  40  41  \\\n",
       "age_0   0   1   0   0   1   0   0   0   0   0  ...   0   0   0   0   0   0   \n",
       "age_1   0   0   1   0   0   0   0   1   0   0  ...   0   0   0   1   0   0   \n",
       "age_2   0   0   0   0   0   0   0   0   1   0  ...   0   0   0   0   0   1   \n",
       "age_3   0   0   0   0   0   0   0   0   0   0  ...   0   0   0   0   0   0   \n",
       "age_4   0   0   0   1   0   0   0   0   0   0  ...   1   0   0   0   0   0   \n",
       "\n",
       "       42  43  44  45  \n",
       "age_0   0   0   1   0  \n",
       "age_1   0   1   0   0  \n",
       "age_2   0   0   0   0  \n",
       "age_3   0   0   0   0  \n",
       "age_4   0   0   0   1  \n",
       "\n",
       "[5 rows x 46 columns]"
      ]
     },
     "execution_count": 15,
     "metadata": {},
     "output_type": "execute_result"
    }
   ],
   "source": [
    "query_users = datas.getQueryUsers()\n",
    "query_users['age_group'] = query_users['age'].apply(lambda x: getGroup(age_groups, x))\n",
    "query_users['balance_group'] = query_users['balance'].apply(lambda x: getGroup(balance_groups, x))\n",
    "query_users['tamount_group'] = query_users['tamount'].apply(lambda x: getGroup(tamount_groups, x))\n",
    "query_users.index = range(len(query_users))\n",
    "\n",
    "query_shingles = pd.DataFrame(index=query_users.index)\n",
    "query_shingles = pd.concat([query_shingles, pd.get_dummies(query_users['age_group'], prefix='age')], axis=1)\n",
    "query_shingles = pd.concat([query_shingles, pd.get_dummies(query_users['balance_group'], prefix='balance')], axis=1)\n",
    "query_shingles = pd.concat([query_shingles, pd.get_dummies(query_users['tamount_group'], prefix='tamount')], axis=1)\n",
    "query_shingles = query_shingles.T\n",
    "\n",
    "query_signatures = get_signatures(query_shingles, signature_length=20)\n",
    "\n",
    "query_shingles.head()"
   ]
  },
  {
   "cell_type": "markdown",
   "metadata": {},
   "source": [
    "We have implemented 2 functions to query users. The first takes intersection of all the matching buckets, and the second takes union of all the matching buckets."
   ]
  },
  {
   "cell_type": "code",
   "execution_count": 16,
   "metadata": {},
   "outputs": [],
   "source": [
    "def get_intersection(buckets, query_signatures, band_size):\n",
    "\n",
    "    intersection = {j: set() for j in range(query_signatures.shape[1])}\n",
    "    num_bucket_matches = {j: 0 for j in range(query_signatures.shape[1])}\n",
    "\n",
    "    rows = query_signatures.shape[0] // band_size\n",
    "\n",
    "    for i in range(rows):\n",
    "        for j in range(query_signatures.shape[1]):\n",
    "            bucket = (i, *query_signatures[i*band_size:(i+1)*band_size, j])\n",
    "            if bucket in buckets.keys():\n",
    "                intersection[j] = intersection[j] & set(buckets[bucket]) if len(intersection[j]) > 0 else set(buckets[bucket])\n",
    "                num_bucket_matches[j] += 1\n",
    "\n",
    "    return intersection, num_bucket_matches\n",
    "\n",
    "def get_unions(buckets, query_signatures, band_size):\n",
    "\n",
    "    unions = {j: set() for j in range(query_signatures.shape[1])}\n",
    "    num_bucket_matches = {j: 0 for j in range(query_signatures.shape[1])}\n",
    "\n",
    "    rows = query_signatures.shape[0] // band_size\n",
    "\n",
    "    for i in range(rows):\n",
    "        for j in range(query_signatures.shape[1]):\n",
    "            bucket = (i, *query_signatures[i*band_size:(i+1)*band_size, j])\n",
    "            if bucket in buckets.keys():\n",
    "                unions[j] = unions[j].union(buckets[bucket])\n",
    "                num_bucket_matches[j] += 1\n",
    "\n",
    "    return unions, num_bucket_matches"
   ]
  },
  {
   "cell_type": "code",
   "execution_count": 17,
   "metadata": {},
   "outputs": [
    {
     "name": "stdout",
     "output_type": "stream",
     "text": [
      "Number of matching customers by intersection for the first 10 queries:\n",
      "602\t0\t0\t0\t849\t289\t1506\t0\t6188\t13218\t\n",
      "Number of matching customers by union for the first 10 queries:\n",
      "14142\t16841\t17378\t19515\t5050\t1343\t3395\t3816\t17167\t17797\t"
     ]
    }
   ],
   "source": [
    "band_size = 2\n",
    "\n",
    "buckets = create_buckets(signatures, band_size=band_size)\n",
    "\n",
    "intersections, _ = get_intersection(buckets, query_signatures, band_size=band_size)\n",
    "print('Number of matching customers by intersection for the first 10 queries:')\n",
    "for i in range(10):\n",
    "    print(len(intersections[i]), end='\\t')\n",
    "\n",
    "\n",
    "print('\\nNumber of matching customers by union for the first 10 queries:')\n",
    "unions, _ = get_unions(buckets, query_signatures, band_size=band_size)\n",
    "for i in range(10):\n",
    "    print(len(unions[i]), end='\\t')\n"
   ]
  },
  {
   "cell_type": "markdown",
   "metadata": {},
   "source": [
    "As you can see above, sometimes the intersection of the buckets is empty. In order to consistently rely on this method we must tune the number shingles and bands to make sure that the intersection is not empty. Let's inspect an example where we get a non-empty intersection."
   ]
  },
  {
   "cell_type": "code",
   "execution_count": 18,
   "metadata": {},
   "outputs": [
    {
     "data": {
      "text/plain": [
       "dob              1987-01-05 00:00:00\n",
       "balance                     10989.03\n",
       "tamount                        240.0\n",
       "age                               29\n",
       "age_group                          4\n",
       "balance_group                      4\n",
       "tamount_group                      1\n",
       "Name: 45, dtype: object"
      ]
     },
     "execution_count": 18,
     "metadata": {},
     "output_type": "execute_result"
    }
   ],
   "source": [
    "# get last query user\n",
    "query_users.iloc[-1]"
   ]
  },
  {
   "cell_type": "code",
   "execution_count": 19,
   "metadata": {},
   "outputs": [
    {
     "data": {
      "text/html": [
       "<div>\n",
       "<style scoped>\n",
       "    .dataframe tbody tr th:only-of-type {\n",
       "        vertical-align: middle;\n",
       "    }\n",
       "\n",
       "    .dataframe tbody tr th {\n",
       "        vertical-align: top;\n",
       "    }\n",
       "\n",
       "    .dataframe thead th {\n",
       "        text-align: right;\n",
       "    }\n",
       "</style>\n",
       "<table border=\"1\" class=\"dataframe\">\n",
       "  <thead>\n",
       "    <tr style=\"text-align: right;\">\n",
       "      <th></th>\n",
       "      <th>dob</th>\n",
       "      <th>gender</th>\n",
       "      <th>location</th>\n",
       "      <th>balance</th>\n",
       "      <th>age</th>\n",
       "      <th>ave_tamount</th>\n",
       "      <th>age_group</th>\n",
       "      <th>balance_group</th>\n",
       "      <th>tamount_group</th>\n",
       "    </tr>\n",
       "    <tr>\n",
       "      <th>cid</th>\n",
       "      <th></th>\n",
       "      <th></th>\n",
       "      <th></th>\n",
       "      <th></th>\n",
       "      <th></th>\n",
       "      <th></th>\n",
       "      <th></th>\n",
       "      <th></th>\n",
       "      <th></th>\n",
       "    </tr>\n",
       "  </thead>\n",
       "  <tbody>\n",
       "    <tr>\n",
       "      <th>42369</th>\n",
       "      <td>1987-08-23</td>\n",
       "      <td>F</td>\n",
       "      <td>ZIRAKPUR</td>\n",
       "      <td>11676.35</td>\n",
       "      <td>29</td>\n",
       "      <td>104.80000</td>\n",
       "      <td>4</td>\n",
       "      <td>4</td>\n",
       "      <td>0</td>\n",
       "    </tr>\n",
       "    <tr>\n",
       "      <th>143874</th>\n",
       "      <td>1987-06-22</td>\n",
       "      <td>F</td>\n",
       "      <td>MORADABAD</td>\n",
       "      <td>10718.28</td>\n",
       "      <td>29</td>\n",
       "      <td>51.00000</td>\n",
       "      <td>4</td>\n",
       "      <td>4</td>\n",
       "      <td>0</td>\n",
       "    </tr>\n",
       "    <tr>\n",
       "      <th>73089</th>\n",
       "      <td>1987-05-30</td>\n",
       "      <td>M</td>\n",
       "      <td>AURANGABAD</td>\n",
       "      <td>8694.41</td>\n",
       "      <td>29</td>\n",
       "      <td>30.00000</td>\n",
       "      <td>4</td>\n",
       "      <td>4</td>\n",
       "      <td>0</td>\n",
       "    </tr>\n",
       "    <tr>\n",
       "      <th>45444</th>\n",
       "      <td>1987-05-19</td>\n",
       "      <td>M</td>\n",
       "      <td>CHIREMIRI</td>\n",
       "      <td>11239.49</td>\n",
       "      <td>29</td>\n",
       "      <td>102.83871</td>\n",
       "      <td>4</td>\n",
       "      <td>4</td>\n",
       "      <td>0</td>\n",
       "    </tr>\n",
       "    <tr>\n",
       "      <th>99076</th>\n",
       "      <td>1987-05-17</td>\n",
       "      <td>M</td>\n",
       "      <td>NARSANDA</td>\n",
       "      <td>10102.55</td>\n",
       "      <td>29</td>\n",
       "      <td>125.00000</td>\n",
       "      <td>4</td>\n",
       "      <td>4</td>\n",
       "      <td>0</td>\n",
       "    </tr>\n",
       "  </tbody>\n",
       "</table>\n",
       "</div>"
      ],
      "text/plain": [
       "              dob gender    location   balance  age  ave_tamount  age_group  \\\n",
       "cid                                                                           \n",
       "42369  1987-08-23      F    ZIRAKPUR  11676.35   29    104.80000          4   \n",
       "143874 1987-06-22      F   MORADABAD  10718.28   29     51.00000          4   \n",
       "73089  1987-05-30      M  AURANGABAD   8694.41   29     30.00000          4   \n",
       "45444  1987-05-19      M   CHIREMIRI  11239.49   29    102.83871          4   \n",
       "99076  1987-05-17      M    NARSANDA  10102.55   29    125.00000          4   \n",
       "\n",
       "        balance_group  tamount_group  \n",
       "cid                                   \n",
       "42369               4              0  \n",
       "143874              4              0  \n",
       "73089               4              0  \n",
       "45444               4              0  \n",
       "99076               4              0  "
      ]
     },
     "execution_count": 19,
     "metadata": {},
     "output_type": "execute_result"
    }
   ],
   "source": [
    "customers.iloc[list(intersections[45])].head()"
   ]
  },
  {
   "cell_type": "markdown",
   "metadata": {},
   "source": [
    "The customers above are pretty similar in their balance, transaction amount, and age. So we can say that our algorithm is working for some cases."
   ]
  },
  {
   "cell_type": "markdown",
   "metadata": {},
   "source": [
    "## 2. Grouping customers together!"
   ]
  },
  {
   "cell_type": "markdown",
   "metadata": {},
   "source": [
    "### 2.1 Set up the data"
   ]
  },
  {
   "cell_type": "markdown",
   "metadata": {},
   "source": [
    "#### 2.1.1 Cleaning transactions data"
   ]
  },
  {
   "cell_type": "markdown",
   "metadata": {},
   "source": [
    "#### 2.1.2 Customer data"
   ]
  },
  {
   "cell_type": "code",
   "execution_count": 20,
   "metadata": {},
   "outputs": [
    {
     "data": {
      "text/html": [
       "<div>\n",
       "<style scoped>\n",
       "    .dataframe tbody tr th:only-of-type {\n",
       "        vertical-align: middle;\n",
       "    }\n",
       "\n",
       "    .dataframe tbody tr th {\n",
       "        vertical-align: top;\n",
       "    }\n",
       "\n",
       "    .dataframe thead th {\n",
       "        text-align: right;\n",
       "    }\n",
       "</style>\n",
       "<table border=\"1\" class=\"dataframe\">\n",
       "  <thead>\n",
       "    <tr style=\"text-align: right;\">\n",
       "      <th></th>\n",
       "      <th>dob</th>\n",
       "      <th>age</th>\n",
       "      <th>gender</th>\n",
       "      <th>location</th>\n",
       "      <th>balance</th>\n",
       "      <th>num_t</th>\n",
       "      <th>num_t_g100</th>\n",
       "      <th>avg_tamount</th>\n",
       "      <th>utilisation</th>\n",
       "    </tr>\n",
       "    <tr>\n",
       "      <th>cid</th>\n",
       "      <th></th>\n",
       "      <th></th>\n",
       "      <th></th>\n",
       "      <th></th>\n",
       "      <th></th>\n",
       "      <th></th>\n",
       "      <th></th>\n",
       "      <th></th>\n",
       "      <th></th>\n",
       "    </tr>\n",
       "  </thead>\n",
       "  <tbody>\n",
       "    <tr>\n",
       "      <th>0</th>\n",
       "      <td>1994-01-10</td>\n",
       "      <td>22</td>\n",
       "      <td>F</td>\n",
       "      <td>JAMSHEDPUR</td>\n",
       "      <td>17819.05</td>\n",
       "      <td>27</td>\n",
       "      <td>9</td>\n",
       "      <td>80.111111</td>\n",
       "      <td>17738.938889</td>\n",
       "    </tr>\n",
       "    <tr>\n",
       "      <th>1</th>\n",
       "      <td>1957-04-04</td>\n",
       "      <td>59</td>\n",
       "      <td>M</td>\n",
       "      <td>JHAJJAR</td>\n",
       "      <td>2270.69</td>\n",
       "      <td>12</td>\n",
       "      <td>11</td>\n",
       "      <td>9503.445000</td>\n",
       "      <td>-7232.755000</td>\n",
       "    </tr>\n",
       "    <tr>\n",
       "      <th>2</th>\n",
       "      <td>1996-11-26</td>\n",
       "      <td>19</td>\n",
       "      <td>F</td>\n",
       "      <td>MUMBAI</td>\n",
       "      <td>17874.44</td>\n",
       "      <td>11</td>\n",
       "      <td>10</td>\n",
       "      <td>940.348182</td>\n",
       "      <td>16934.091818</td>\n",
       "    </tr>\n",
       "    <tr>\n",
       "      <th>3</th>\n",
       "      <td>1973-09-14</td>\n",
       "      <td>43</td>\n",
       "      <td>F</td>\n",
       "      <td>MUMBAI</td>\n",
       "      <td>866503.21</td>\n",
       "      <td>13</td>\n",
       "      <td>13</td>\n",
       "      <td>2537.346923</td>\n",
       "      <td>863965.863077</td>\n",
       "    </tr>\n",
       "    <tr>\n",
       "      <th>5</th>\n",
       "      <td>1972-10-08</td>\n",
       "      <td>44</td>\n",
       "      <td>F</td>\n",
       "      <td>ITANAGAR</td>\n",
       "      <td>53609.20</td>\n",
       "      <td>11</td>\n",
       "      <td>11</td>\n",
       "      <td>1418.909091</td>\n",
       "      <td>52190.290909</td>\n",
       "    </tr>\n",
       "  </tbody>\n",
       "</table>\n",
       "</div>"
      ],
      "text/plain": [
       "           dob  age gender    location    balance  num_t  num_t_g100  \\\n",
       "cid                                                                    \n",
       "0   1994-01-10   22      F  JAMSHEDPUR   17819.05     27           9   \n",
       "1   1957-04-04   59      M     JHAJJAR    2270.69     12          11   \n",
       "2   1996-11-26   19      F      MUMBAI   17874.44     11          10   \n",
       "3   1973-09-14   43      F      MUMBAI  866503.21     13          13   \n",
       "5   1972-10-08   44      F    ITANAGAR   53609.20     11          11   \n",
       "\n",
       "     avg_tamount    utilisation  \n",
       "cid                              \n",
       "0      80.111111   17738.938889  \n",
       "1    9503.445000   -7232.755000  \n",
       "2     940.348182   16934.091818  \n",
       "3    2537.346923  863965.863077  \n",
       "5    1418.909091   52190.290909  "
      ]
     },
     "execution_count": 20,
     "metadata": {},
     "output_type": "execute_result"
    }
   ],
   "source": [
    "customersX = datas.getCustomersX().copy()\n",
    "customersX[customersX.columns[:9]].head()"
   ]
  },
  {
   "cell_type": "markdown",
   "metadata": {},
   "source": [
    "So we are sparing you to look at all the data cleaning and preprocessing we did, at least in this notebook. You may find the code in datasets.py file. Rather we are going to go over the variables we created and how we created them. So as we have explaiend before we have created new customer IDs. And the data we have for these customers have unique gender, location, balance; thus the 3 of the 7 variables that you asked for is automatically implemented. We have calculated the other 4 variables which were required."
   ]
  },
  {
   "cell_type": "code",
   "execution_count": 21,
   "metadata": {},
   "outputs": [
    {
     "data": {
      "text/html": [
       "<div>\n",
       "<style scoped>\n",
       "    .dataframe tbody tr th:only-of-type {\n",
       "        vertical-align: middle;\n",
       "    }\n",
       "\n",
       "    .dataframe tbody tr th {\n",
       "        vertical-align: top;\n",
       "    }\n",
       "\n",
       "    .dataframe thead th {\n",
       "        text-align: right;\n",
       "    }\n",
       "</style>\n",
       "<table border=\"1\" class=\"dataframe\">\n",
       "  <thead>\n",
       "    <tr style=\"text-align: right;\">\n",
       "      <th></th>\n",
       "      <th>tamount_balance_ratio</th>\n",
       "      <th>log_balance</th>\n",
       "      <th>log_tamount</th>\n",
       "      <th>balance_age_ratio</th>\n",
       "      <th>balance_leq_avg_salary</th>\n",
       "      <th>top_30_loc</th>\n",
       "      <th>transaction_freq_std</th>\n",
       "      <th>t_max</th>\n",
       "      <th>t_min</th>\n",
       "      <th>t_std</th>\n",
       "      <th>t_skew</th>\n",
       "      <th>t_kurt</th>\n",
       "      <th>transaction_freq</th>\n",
       "      <th>vol_weighted_transaction_freq</th>\n",
       "      <th>tamount_age_ratio</th>\n",
       "      <th>boomer</th>\n",
       "      <th>zoomer</th>\n",
       "      <th>days_till_bd</th>\n",
       "      <th>zodiac</th>\n",
       "    </tr>\n",
       "    <tr>\n",
       "      <th>cid</th>\n",
       "      <th></th>\n",
       "      <th></th>\n",
       "      <th></th>\n",
       "      <th></th>\n",
       "      <th></th>\n",
       "      <th></th>\n",
       "      <th></th>\n",
       "      <th></th>\n",
       "      <th></th>\n",
       "      <th></th>\n",
       "      <th></th>\n",
       "      <th></th>\n",
       "      <th></th>\n",
       "      <th></th>\n",
       "      <th></th>\n",
       "      <th></th>\n",
       "      <th></th>\n",
       "      <th></th>\n",
       "      <th></th>\n",
       "    </tr>\n",
       "  </thead>\n",
       "  <tbody>\n",
       "    <tr>\n",
       "      <th>0</th>\n",
       "      <td>0.004496</td>\n",
       "      <td>9.788080</td>\n",
       "      <td>4.395820</td>\n",
       "      <td>809.956818</td>\n",
       "      <td>True</td>\n",
       "      <td>False</td>\n",
       "      <td>30153.912763</td>\n",
       "      <td>270.0</td>\n",
       "      <td>4.00</td>\n",
       "      <td>88.562596</td>\n",
       "      <td>1.241343</td>\n",
       "      <td>0.196795</td>\n",
       "      <td>41.361702</td>\n",
       "      <td>3313.531915</td>\n",
       "      <td>3.641414</td>\n",
       "      <td>False</td>\n",
       "      <td>False</td>\n",
       "      <td>285</td>\n",
       "      <td>Capricorn</td>\n",
       "    </tr>\n",
       "    <tr>\n",
       "      <th>1</th>\n",
       "      <td>4.185267</td>\n",
       "      <td>7.728279</td>\n",
       "      <td>9.159515</td>\n",
       "      <td>38.486271</td>\n",
       "      <td>True</td>\n",
       "      <td>False</td>\n",
       "      <td>34481.324726</td>\n",
       "      <td>27999.0</td>\n",
       "      <td>75.05</td>\n",
       "      <td>12228.759447</td>\n",
       "      <td>0.883882</td>\n",
       "      <td>-1.225921</td>\n",
       "      <td>1.558020</td>\n",
       "      <td>14806.557533</td>\n",
       "      <td>161.075339</td>\n",
       "      <td>False</td>\n",
       "      <td>False</td>\n",
       "      <td>200</td>\n",
       "      <td>Aries</td>\n",
       "    </tr>\n",
       "    <tr>\n",
       "      <th>2</th>\n",
       "      <td>0.052609</td>\n",
       "      <td>9.791183</td>\n",
       "      <td>6.847313</td>\n",
       "      <td>940.760000</td>\n",
       "      <td>True</td>\n",
       "      <td>True</td>\n",
       "      <td>24111.348841</td>\n",
       "      <td>7196.0</td>\n",
       "      <td>45.00</td>\n",
       "      <td>2085.637967</td>\n",
       "      <td>3.254038</td>\n",
       "      <td>10.695982</td>\n",
       "      <td>5.469613</td>\n",
       "      <td>5143.340884</td>\n",
       "      <td>49.492010</td>\n",
       "      <td>False</td>\n",
       "      <td>True</td>\n",
       "      <td>36</td>\n",
       "      <td>Sagittarius</td>\n",
       "    </tr>\n",
       "    <tr>\n",
       "      <th>3</th>\n",
       "      <td>0.002928</td>\n",
       "      <td>13.672222</td>\n",
       "      <td>7.839268</td>\n",
       "      <td>20151.237442</td>\n",
       "      <td>False</td>\n",
       "      <td>True</td>\n",
       "      <td>32051.120040</td>\n",
       "      <td>6924.0</td>\n",
       "      <td>450.00</td>\n",
       "      <td>1636.970616</td>\n",
       "      <td>1.848912</td>\n",
       "      <td>4.021366</td>\n",
       "      <td>0.262788</td>\n",
       "      <td>666.785535</td>\n",
       "      <td>59.008068</td>\n",
       "      <td>False</td>\n",
       "      <td>False</td>\n",
       "      <td>37</td>\n",
       "      <td>Virgo</td>\n",
       "    </tr>\n",
       "    <tr>\n",
       "      <th>5</th>\n",
       "      <td>0.026468</td>\n",
       "      <td>10.889495</td>\n",
       "      <td>7.258348</td>\n",
       "      <td>1218.390909</td>\n",
       "      <td>False</td>\n",
       "      <td>False</td>\n",
       "      <td>40957.262504</td>\n",
       "      <td>2620.0</td>\n",
       "      <td>499.00</td>\n",
       "      <td>665.213117</td>\n",
       "      <td>0.354168</td>\n",
       "      <td>-0.402150</td>\n",
       "      <td>5.111326</td>\n",
       "      <td>7252.507260</td>\n",
       "      <td>32.247934</td>\n",
       "      <td>False</td>\n",
       "      <td>False</td>\n",
       "      <td>13</td>\n",
       "      <td>Libra</td>\n",
       "    </tr>\n",
       "  </tbody>\n",
       "</table>\n",
       "</div>"
      ],
      "text/plain": [
       "     tamount_balance_ratio  log_balance  log_tamount  balance_age_ratio  \\\n",
       "cid                                                                       \n",
       "0                 0.004496     9.788080     4.395820         809.956818   \n",
       "1                 4.185267     7.728279     9.159515          38.486271   \n",
       "2                 0.052609     9.791183     6.847313         940.760000   \n",
       "3                 0.002928    13.672222     7.839268       20151.237442   \n",
       "5                 0.026468    10.889495     7.258348        1218.390909   \n",
       "\n",
       "     balance_leq_avg_salary  top_30_loc  transaction_freq_std    t_max  \\\n",
       "cid                                                                      \n",
       "0                      True       False          30153.912763    270.0   \n",
       "1                      True       False          34481.324726  27999.0   \n",
       "2                      True        True          24111.348841   7196.0   \n",
       "3                     False        True          32051.120040   6924.0   \n",
       "5                     False       False          40957.262504   2620.0   \n",
       "\n",
       "      t_min         t_std    t_skew     t_kurt  transaction_freq  \\\n",
       "cid                                                                \n",
       "0      4.00     88.562596  1.241343   0.196795         41.361702   \n",
       "1     75.05  12228.759447  0.883882  -1.225921          1.558020   \n",
       "2     45.00   2085.637967  3.254038  10.695982          5.469613   \n",
       "3    450.00   1636.970616  1.848912   4.021366          0.262788   \n",
       "5    499.00    665.213117  0.354168  -0.402150          5.111326   \n",
       "\n",
       "     vol_weighted_transaction_freq  tamount_age_ratio  boomer  zoomer  \\\n",
       "cid                                                                     \n",
       "0                      3313.531915           3.641414   False   False   \n",
       "1                     14806.557533         161.075339   False   False   \n",
       "2                      5143.340884          49.492010   False    True   \n",
       "3                       666.785535          59.008068   False   False   \n",
       "5                      7252.507260          32.247934   False   False   \n",
       "\n",
       "     days_till_bd       zodiac  \n",
       "cid                             \n",
       "0             285    Capricorn  \n",
       "1             200        Aries  \n",
       "2              36  Sagittarius  \n",
       "3              37        Virgo  \n",
       "5              13        Libra  "
      ]
     },
     "execution_count": 21,
     "metadata": {},
     "output_type": "execute_result"
    }
   ],
   "source": [
    "customersX[customersX.columns[9:]].head()"
   ]
  },
  {
   "cell_type": "markdown",
   "metadata": {},
   "source": [
    "Moving on, you can see the variables we have added to the data. We have added the following variables:\n",
    "1. **age**: The age of the customer\n",
    "2. **tamount_balance_ratio**: The ratio of the average transaction amount to the balance of the customer\n",
    "3. **log_balance**: The log of the balance of the customer\n",
    "4. **log_tamount**: The log of the average transaction amount of the customer\n",
    "5. **balance_age_ratio**: The ratio of the balance to the age of the customer\n",
    "6. **balance_leq_avg_salary**: Whether the balance of the customer is less than or equal to the average salary in India, that is 3200 INR.\n",
    "7. **top_30_loc**: Whether the customer is from one of the top 30 most frequent locations in the dataset.\n",
    "8. **tranaction_freq**: The frequency of the transactions of the customer.\n",
    "9. **transaction_freq_std**: The standard deviation of the transaction frequency of the customer. This is to indicate how consistent the customer is in terms of transaction frequency.\n",
    "10. **vol_weighted_transaction_freq**: The volume weighted transaction frequency of the customer. This is to indicate how much the customer spends in terms of transaction frequency.\n",
    "11. **t_max**: The maximum transaction amount of the customer.\n",
    "12. **t_min**: The minimum transaction amount of the customer.\n",
    "13. **t_std**: The standard deviation of the transaction amount of the customer.\n",
    "14. **t_skew**: The skewness of the transaction amount of the customer.\n",
    "15. **t_kurt**: The kurtosis of the transaction amount of the customer.\n",
    "16. **tamount_age_ratio**: The ratio of the average transaction amount to the age of the customer.\n",
    "17. **boomer**: Whether the customer is a boomer or not, that is, above 60 years of age.\n",
    "18. **zoomer**: Whether the customer is a zoomer or not, that is, below 20 years of age.\n",
    "19. **days_till_bd**: The number of days till the customer's birthday. This can eliminate extra spending due to customer's birthday.\n",
    "20. **zodiac**: The zodiac sign of the customer."
   ]
  },
  {
   "cell_type": "markdown",
   "metadata": {},
   "source": [
    "#### 2.2 Choose your features (variables)!"
   ]
  },
  {
   "cell_type": "markdown",
   "metadata": {},
   "source": [
    "We will standardize our data before clustering because we want to give **equal importance** to all the variables. We will drop the location, zodiac variables because we believe it will cause overfitting. We will also convert columns with boolean values to 0 and 1."
   ]
  },
  {
   "cell_type": "code",
   "execution_count": 22,
   "metadata": {},
   "outputs": [
    {
     "name": "stdout",
     "output_type": "stream",
     "text": [
      "The number of non-numeric features is:  0\n"
     ]
    }
   ],
   "source": [
    "X = customersX.copy()\n",
    "X.drop(['dob', 'location', 'zodiac'], axis=1, inplace=True)\n",
    "X.loc[:, X.dtypes == 'bool'] = X.loc[:, X.dtypes == 'bool'].astype('int')\n",
    "X['gender'] = X['gender'].apply(lambda x: 1 if x == 'M' else 0)\n",
    "print('The number of non-numeric features is: ', sum([x not in ['int64', 'float64'] for x in X.dtypes]))"
   ]
  },
  {
   "cell_type": "code",
   "execution_count": 23,
   "metadata": {},
   "outputs": [
    {
     "name": "stdout",
     "output_type": "stream",
     "text": [
      "The number of cols with absolute mean larger than 0.001 is:  0\n",
      "The number of cols with absolute std larger than 1.0001 or smaller than 0.9999 is:  0\n"
     ]
    }
   ],
   "source": [
    "X = (X - X.mean()) / X.std()\n",
    "print('The number of cols with absolute mean larger than 0.001 is: ', sum(abs(X.mean()) > 0.001))\n",
    "print('The number of cols with absolute std larger than 1.0001 or smaller than 0.9999 is: ', sum(abs(X.std() - 1) > 0.001) + sum(X.std() < 0.9999))"
   ]
  },
  {
   "cell_type": "code",
   "execution_count": 24,
   "metadata": {},
   "outputs": [
    {
     "name": "stdout",
     "output_type": "stream",
     "text": [
      "The number of PCA components that explain 70% of the variance is:  9\n"
     ]
    },
    {
     "data": {
      "image/png": "[encoded data removed]",
      "text/plain": [
       "<Figure size 1440x288 with 1 Axes>"
      ]
     },
     "metadata": {
      "needs_background": "light"
     },
     "output_type": "display_data"
    }
   ],
   "source": [
    "# import pca\n",
    "from sklearn.decomposition import PCA\n",
    "pca = PCA().fit(X)\n",
    "# Plot the explained variance\n",
    "pd.Series(np.cumsum(pca.explained_variance_ratio_)).plot(\n",
    "    title='Explained variance ratio by PCA components',\n",
    "    figsize=(20, 4),\n",
    "    grid=True,\n",
    "    xlabel='PCA components',\n",
    "    ylabel='Explained variance ratio'\n",
    ")\n",
    "\n",
    "print('The number of PCA components that explain 70% of the variance is: ', np.where(np.cumsum(pca.explained_variance_ratio_) > 0.70)[0][0] + 1)"
   ]
  },
  {
   "cell_type": "code",
   "execution_count": 25,
   "metadata": {},
   "outputs": [],
   "source": [
    "pca = PCA(n_components=9).fit(X)\n",
    "XPC = pca.transform(X)"
   ]
  },
  {
   "cell_type": "markdown",
   "metadata": {},
   "source": [
    "#### 2.3 Clustering!"
   ]
  },
  {
   "cell_type": "code",
   "execution_count": 26,
   "metadata": {},
   "outputs": [],
   "source": [
    "from pyspark import SparkContext\n",
    "\n",
    "def assign_cluster(row, centroids):\n",
    "    cluster = np.argmin(np.sum((centroids - row) ** 2, axis=1))\n",
    "    return (cluster, (1, row))\n",
    "\n",
    "\n",
    "def update_centroids(x, y):\n",
    "    # Returns the sum of number of observations and the sum of the rows\n",
    "    return (x[0] + y[0], x[1] + y[1])\n",
    "\n",
    "def kmeans(X, k, max_iter=10):\n",
    "    sc = SparkContext.getOrCreate()\n",
    "    rdd = sc.parallelize(X)\n",
    "\n",
    "    centroids = X[np.random.choice(X.shape[0], k, replace=False), :]\n",
    "\n",
    "    for j in (pbar:= tqdm(range(max_iter), desc='KMeans iterations')):\n",
    "        mapResults = rdd.map(lambda x: assign_cluster(x, centroids)).reduceByKey(update_centroids).collect()\n",
    "        centroids = np.array([mapResults[i][1][1] / mapResults[i][1][0] for i in range(k)])\n",
    "\n",
    "        \n",
    "        clusters = [row[0] for row in rdd.map(lambda x: assign_cluster(x, centroids)).collect()]\n",
    "        sse = np.sum((np.dot(pd.get_dummies(clusters).values, centroids) - X) ** 2)\n",
    "        pbar.set_description(f'KMeans iterations {j + 1}/{max_iter} (SSE: {sse:.2f})')\n",
    "\n",
    "\n",
    "    return clusters, centroids"
   ]
  },
  {
   "cell_type": "code",
   "execution_count": 27,
   "metadata": {},
   "outputs": [
    {
     "name": "stderr",
     "output_type": "stream",
     "text": [
      "Setting default log level to \"WARN\".\n",
      "To adjust logging level use sc.setLogLevel(newLevel). For SparkR, use setLogLevel(newLevel).\n"
     ]
    },
    {
     "name": "stdout",
     "output_type": "stream",
     "text": [
      "22/12/02 12:37:09 WARN NativeCodeLoader: Unable to load native-hadoop library for your platform... using builtin-java classes where applicable\n"
     ]
    },
    {
     "name": "stderr",
     "output_type": "stream",
     "text": [
      "KMeans iterations 20/20 (SSE: 384488.82): 100%|██████████| 20/20 [00:45<00:00,  2.29s/it]\n"
     ]
    }
   ],
   "source": [
    "clusters, centroids = kmeans(XPC, 5, 20)"
   ]
  },
  {
   "cell_type": "code",
   "execution_count": 28,
   "metadata": {},
   "outputs": [
    {
     "data": {
      "image/png": "[encoded data removed]",
      "text/plain": [
       "<Figure size 720x720 with 1 Axes>"
      ]
     },
     "metadata": {
      "needs_background": "light"
     },
     "output_type": "display_data"
    }
   ],
   "source": [
    "import matplotlib.pyplot as plt\n",
    "# Plot according to the first two principal components\n",
    "plt.figure(figsize=(10, 10))\n",
    "plt.scatter(XPC[:, 0], XPC[:, 1], c=clusters, cmap='tab10', alpha=0.5)\n",
    "plt.scatter(centroids[:, 0], centroids[:, 1], marker='x', s=100, c='k')\n",
    "plt.title('KMeans clustering with 3 clusters')\n",
    "plt.xlabel('PC1'); plt.ylabel('PC2')\n",
    "plt.xlim(-5,20); plt.ylim(-20,20)\n",
    "plt.show()"
   ]
  },
  {
   "cell_type": "markdown",
   "metadata": {},
   "source": [
    "#### 2.4 Analysing your results!"
   ]
  },
  {
   "cell_type": "markdown",
   "metadata": {},
   "source": [
    "### Bonus"
   ]
  },
  {
   "cell_type": "markdown",
   "metadata": {},
   "source": [
    "### Command Line Question"
   ]
  },
  {
   "cell_type": "code",
   "execution_count": 29,
   "metadata": {},
   "outputs": [
    {
     "name": "stdout",
     "output_type": "stream",
     "text": [
      "1-The location that has the maximum number of purchases been made:\n",
      "103595 MUMBAI\n",
      "2-The most spending purchases are: \n",
      "M\n",
      "3-The customer with the highest average transaction amount: \n",
      "991132 C4141768\n"
     ]
    }
   ],
   "source": [
    "%%bash\n",
    "\n",
    "echo '1-The location that has the maximum number of purchases been made:'\n",
    "\n",
    "awk -F, '{print($5)}' data/bank_transactions.csv | sort | uniq -c | sort -nr | head -1\n",
    "\n",
    "echo '2-The most spending purchases are: '\n",
    "\n",
    "awk -F, '{$4+=$9}END{ if(list[\"F\"] > list[\"M\"]){ print(\"F\");} else{ print(\"M\");}}' data/bank_transactions.csv\n",
    "\n",
    "echo '3-The customer with the highest average transaction amount: '\n",
    "\n",
    "awk -F, '{c[$2]++;list[$2]+=$9}END{for (i in list) print(list[i]/c[i],i)}' data/bank_transactions.csv | sort -nr | head -1"
   ]
   
   
  },
  {
   "cell_type": "markdown",
   "metadata": {},
   "source": [
    "### Algorithmic Question"
   ]
  },
  {
   "cell_type": "code",
   "execution_count": 30,
   "metadata": {},
   "outputs": [
    {
     "name": "stdout",
     "output_type": "stream",
     "text": [
      "N = 2, M = 5, G = 1\n",
      "arriving = [1, 2, 1]\n",
      "NO\n"
     ]
    }
   ],
   "source": [
    "# N, M, G = list(map(int, input().split()))\n",
    "# arriving = list(map(int, input().split()))\n",
    "\n",
    "\n",
    "N, M, G = 4, 5, 1\n",
    "arriving = [1, 1, 3, 3, 3]\n",
    "\n",
    "N, M, G = 2, 5, 1\n",
    "arriving = [1, 2, 1]\n",
    "\n",
    "\n",
    "print(f'N = {N}, M = {M}, G = {G}')\n",
    "print(f'arriving = {arriving}')\n",
    "\n",
    "enough = True\n",
    "\n",
    "intersections = {}\n",
    "\n",
    "for student in arriving:\n",
    "    if student not in intersections.keys():\n",
    "        intersections[student] = set()\n",
    "        intersections[student].add(student)\n",
    "    else:\n",
    "        for gate in intersections.keys():\n",
    "            intersections[gate].add(student)\n",
    "\n",
    "for gate in intersections.keys():\n",
    "    if len(intersections[gate]) > G:\n",
    "        enough = False\n",
    "\n",
    "if enough:\n",
    "    print('YES')\n",
    "else:\n",
    "    print('NO')"
   ]
  }
  
  
 ],
 "metadata": {
  "kernelspec": {
   "display_name": "Python 3.9.12 ('base')",
   "language": "python",
   "name": "python3"
  },
  "language_info": {
   "codemirror_mode": {
    "name": "ipython",
    "version": 3
   },
   "file_extension": ".py",
   "mimetype": "text/x-python",
   "name": "python",
   "nbconvert_exporter": "python",
   "pygments_lexer": "ipython3",
   "version": "3.9.12"
  },
  "orig_nbformat": 4,
  "vscode": {
   "interpreter": {
    "hash": "a2875e863656f51b086e8e28d9d22dbee1e08a4c40db222f2cb26ce4a6f7eef6"
   }
  }
 },
 "nbformat": 4,
 "nbformat_minor": 2
}
